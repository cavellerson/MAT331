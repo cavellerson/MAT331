{
 "cells": [
  {
   "cell_type": "markdown",
   "metadata": {},
   "source": [
    "## HW02, solution. There are different ways of solving these problems, and the following is just one of them\n",
    "## For code (without explanation, please go to the end of the page)"
   ]
  },
  {
   "cell_type": "markdown",
   "metadata": {},
   "source": [
    "# Problem 01 Fair dice\n",
    "\n",
    "Similar to the Exercise in $\\textbf{Lab01}$. We want to set up rolling die random variable and related event here. The program should be able to calculate the probability that a given sequence of die rolls appears.\n",
    "\n",
    "You may follow the process below to code. But it is totally up to you to compose your own work. Just make sure it can run and give the required results.\n",
    "\n",
    "### Ingredients:\n",
    "\n",
    "1. sample space: $\\Omega$\n",
    "1. random variable $X:\\Omega \\rightarrow \\mathbb{R}$\n",
    "1. probability function assuming fair die\n",
    "\n",
    "set up functions\n",
    "\n",
    "1. A sample space of rolling a 6-sided die labelled 1,2,3,4,5,6\n",
    "1. A random variable $X$ on the sample space\n",
    "1. A probability mass function $pmf$ $f()$, assuming the die is fair\n",
    "1. A function that calculate probability of any given string to appear. round the result to 5 decimal place. Like in the coin case, probability that HTH shows up.\n",
    "\n",
    "# Your code should be able to do the following:\n",
    "\n",
    "note that: You don't have to use the comments I wrote below, but you should write your own comments so that our grader can follow your ideas\n",
    "\n",
    "#### For each roll in rolls = ['1','133345','123456','12','17'] \n",
    "Note: roll '12' means you roll a die 2 times, '1' shows up first, then '2' shows up. You want to calculate the probability this occurs\n",
    "\n",
    "#### Calculate the probability of the roll shows up, round the probability to 5 decimal place\n",
    "#### Print your result as following form:\n",
    "#### roll = 1, probability = 0.16667"
   ]
  },
  {
   "cell_type": "code",
   "execution_count": 5,
   "metadata": {},
   "outputs": [
    {
     "name": "stdout",
     "output_type": "stream",
     "text": [
      "roll =  1 , probability =  0.16667\n",
      "roll =  133345 , probability =  2e-05\n",
      "roll =  123456 , probability =  2e-05\n",
      "roll =  12 , probability =  0.02778\n",
      "roll =  17 , probability =  0\n"
     ]
    }
   ],
   "source": [
    "rolls =  ['1','133345','123456','12','17']\n",
    "\n",
    "##############################################################\n",
    "## sample space \n",
    "##############################################################\n",
    "\n",
    "SS = range(1,7)\n",
    "\n",
    "\n",
    "\n",
    "def print_roll(roll, probability, ifzero = False):\n",
    "    \"\"\"Print roll and its probability\n",
    "\n",
    "    Keyword arguments:\n",
    "    roll        -- a given roll sequence eg: '123'\n",
    "    probability -- the probability roll show up\n",
    "    ifzero      -- True if input roll invalid eg. '17', '3dots'\n",
    "                   (default False)\n",
    "    \"\"\"\n",
    "    if(ifzero == True):\n",
    "        probability = 0\n",
    "    print('roll = ', roll, ', probability = ', round(probability,5))\n",
    "    \n",
    "    \n",
    "\n",
    "for roll in rolls:\n",
    "    ## initialize \n",
    "    n = len(roll)\n",
    "    prob = 0\n",
    "    ifzero = False\n",
    "        \n",
    "    for i in roll:\n",
    "        ## determine if i is in the sample space\n",
    "        try:\n",
    "            val = int(i)\n",
    "        except:\n",
    "            val = 0\n",
    "        if(val not in SS):\n",
    "            ifzero = True\n",
    "            break\n",
    "            \n",
    "    ##############################################################\n",
    "    ## If roll is in the sample space\n",
    "    ## Because the die is fair, so the prob the sequence show up\n",
    "    ## is the (1/6) to the power (length of the roll)\n",
    "    ##############################################################\n",
    "    print_roll(roll, (1/6)**n,ifzero)\n",
    "    \n",
    "    \n",
    "\n"
   ]
  },
  {
   "cell_type": "code",
   "execution_count": 4,
   "metadata": {},
   "outputs": [
    {
     "name": "stdout",
     "output_type": "stream",
     "text": [
      "actual result for 22:  0.027777777777777776\n",
      "actual result for 3dot 0\n",
      "roll =  22 , probability =  0.02778\n",
      "roll =  3dot , probability =  0\n"
     ]
    }
   ],
   "source": [
    "##############################################################\n",
    "## To test if your functions are defined correctly \n",
    "## or to check if your code is correct\n",
    "## you may write some simple test cases to run\n",
    "##\n",
    "## I just made up some test cases to see if my code works\n",
    "## Note that: things inside test case should be computable\n",
    "##            'by hand' using math \n",
    "##############################################################\n",
    "\n",
    "test1 = ['22','3dot']\n",
    "print('actual result for 22: ', (1/6)**2)\n",
    "print('actual result for 3dot', 0)\n",
    "    \n",
    "##############################################################\n",
    "## Below, I just copy and past what I have written before:\n",
    "## instead of rolls I use test1\n",
    "##############################################################\n",
    "\n",
    "for roll in test1:\n",
    "    ## initialize \n",
    "    n = len(roll)\n",
    "    prob = 0\n",
    "    ifzero = False\n",
    "        \n",
    "    for i in roll:\n",
    "        ## determine if i is in the sample space\n",
    "        try:\n",
    "            val = int(i)\n",
    "        except:\n",
    "            val = 0.\n",
    "        if(val not in SS):\n",
    "            ifzero = True\n",
    "            break\n",
    "    print_roll(roll, (1/6)**n,ifzero)"
   ]
  },
  {
   "cell_type": "markdown",
   "metadata": {},
   "source": [
    "## Problem 02 unfair dice\n",
    "\n",
    "Do the same as problem 01, but now our die is not fair.\n",
    "\n",
    "1.  define a probability mass function $pmfg()$, assuming the die is not fair. The probability of  getting 1 is \n",
    "    $\\frac{6}{21}$, getting 2 is $\\frac{5}{21}$, getting 3 is $\\frac{4}{21}$ getting 4 is $\\frac{3}{21}$, getting     5 is $\\frac{2}{21}$, getting 6 is $\\frac{1}{21}$\n",
    "1. define a function that calculate probability of any given sequence to appear\n",
    "\n",
    "# Your code should be able to do the following:\n",
    "note that: You don't have to use the comments I wrote below, but you should write your own comments so that our grader will understand what your code means.\n",
    "\n",
    "#### For each roll in rolls = ['1','133345','123456','12','17'] \n",
    "#### Calculate the probability of the roll shows up, round the probability to 5 decimal place\n",
    "#### Print your result as following form:\n",
    "#### roll = 1, probability = 0.28571\n"
   ]
  },
  {
   "cell_type": "code",
   "execution_count": 5,
   "metadata": {},
   "outputs": [
    {
     "name": "stdout",
     "output_type": "stream",
     "text": [
      "roll =  1 , probability =  0.28571\n",
      "roll =  133345 , probability =  3e-05\n",
      "roll =  123456 , probability =  1e-05\n",
      "roll =  12 , probability =  0.06803\n",
      "roll =  17 , probability =  0.0\n"
     ]
    }
   ],
   "source": [
    "rolls = ['1','133345','123456','12','17']\n",
    "\n",
    "##############################################################\n",
    "## Define prob. mass function on '1','2',...'6' \n",
    "## if x is one of '1','2',...'6'    , assign corresponding prob.\n",
    "## if x is not one of '1','2',...'6', assign 0\n",
    "##############################################################\n",
    "def pmfg(x):\n",
    "    \"\"\"probability mass on sample space {1,2,3,..,6}\n",
    "\n",
    "    Keyword arguments:\n",
    "    x -- the outcome of rolling a die once eg. 5\n",
    "    \"\"\"    \n",
    "    \n",
    "    ##############################################################\n",
    "    ## if your x is a string number eg '1' '7',\n",
    "    ##    assign val as int(x);\n",
    "    ## if your x is something else eg 'typo',\n",
    "    ##    assign val 0. (not in sample space)\n",
    "    ## so we use try/except to deal with the error\n",
    "    ##############################################################\n",
    "    try:\n",
    "        val = int(x)\n",
    "    except:\n",
    "        val = 0.\n",
    "        \n",
    "    ##############################################################\n",
    "    ## After the above run: \n",
    "    ## val is either an int inside (1,2,3...8,9)\n",
    "    ##         or val = 0 (the wrong input case)\n",
    "    ## But in either case, if the val is one of 1,2,3,..6 \n",
    "    ##     we assign the corresponding probability \n",
    "    ##     othwerwise, we assign 0\n",
    "    ##############################################################    \n",
    "    if(val not in SS):\n",
    "        return 0.\n",
    "    return (7-int(x))/21\n",
    "\n",
    "\n",
    "##############################################################\n",
    "## compute probability of a given sequence comes up\n",
    "##############################################################\n",
    "def prob(roll):\n",
    "    \"\"\"probability for a squence to show up\n",
    "\n",
    "    Keyword arguments:\n",
    "    roll -- the sequence of outcome of rolling a die\n",
    "            eg. '123','66666'\n",
    "    \"\"\" \n",
    "    prob = 1\n",
    "    for i in roll:\n",
    "        prob *= pmfg(i)\n",
    "    return prob\n",
    "\n",
    "for roll in rolls:\n",
    "    ## here I used the function we defined for problem 1\n",
    "    print_roll(roll, prob(roll))"
   ]
  },
  {
   "cell_type": "code",
   "execution_count": 54,
   "metadata": {},
   "outputs": [
    {
     "name": "stdout",
     "output_type": "stream",
     "text": [
      "test1 =  ['1', '4']\n",
      "roll =  1 , probability =  0.28571\n",
      "roll =  4 , probability =  0.14286\n",
      "1 0.2857142857142857\n",
      "4 0.14285714285714285\n",
      "\n",
      "test2 =  ['14', '22', '7', '1dot']\n",
      "roll =  14 , probability =  0.04082\n",
      "roll =  22 , probability =  0.05669\n",
      "roll =  7 , probability =  0.0\n",
      "roll =  1dot , probability =  0.0\n",
      "14 0.04081632653061224\n",
      "22 0.056689342403628114\n",
      "7 0\n",
      "1dot 0\n"
     ]
    }
   ],
   "source": [
    "##############################################################\n",
    "## to see if your code is correct, \n",
    "## like before, you can write some simple test cases\n",
    "##############################################################\n",
    "test1 = ['1','4']\n",
    "print('test1 = ', test1)\n",
    "for roll in test1:\n",
    "    print_roll(roll, prob(roll))\n",
    "    \n",
    "##############################################################\n",
    "## here you know that probability of getting 1,4\n",
    "## as these are given\n",
    "##############################################################\n",
    "print('1',6/21)\n",
    "print('4',3/21)\n",
    "\n",
    "\n",
    "##############################################################\n",
    "## try another simple test2\n",
    "##############################################################\n",
    "\n",
    "test2 = ['14','22','7','1dot']\n",
    "print('\\ntest2 = ', test2)\n",
    "for roll in test2:\n",
    "    print_roll(roll, prob(roll))\n",
    "    \n",
    "\n",
    "################################################################    \n",
    "## here you know how to compute probability of \n",
    "## getting '14','22','7', '1dot' mathematically\n",
    "## compare the output here with previous output\n",
    "################################################################\n",
    "\n",
    "print('14',(6/21)*(3/21))\n",
    "print('22',(5/21)**2)\n",
    "print('7',0)\n",
    "print('1dot',0)"
   ]
  },
  {
   "cell_type": "markdown",
   "metadata": {
    "collapsed": true
   },
   "source": [
    "## Problem 03  Cummulative Density Function (cdf) of exponential distributions\n",
    "\n",
    "Note that the  Cummulative Density Function of exponential distribution with parameter $\\lambda$, $\\lambda > 0$ looks like this\n",
    "\n",
    "$\\begin{equation}\n",
    "    F(x;\\lambda)=\n",
    "    \\begin{cases}\n",
    "       1 -  e^{-\\lambda x}, & \\text{if}\\ x\\geq 0 \\\\\n",
    "      0, & \\text{otherwise}\n",
    "    \\end{cases}\n",
    "  \\end{equation}$\n",
    "  \n",
    "\n",
    "## Your code should be able to do the following:\n",
    "\n",
    "Given $\\lambda$, and an array $arr$; your function can return an array of values $F(x;\\lambda)$ for each $x\\in arr$. \n",
    "\n",
    "eg: F([-1 , 1],0.5) should return [0   0.69673467014368329] of type numpy.ndarray\n",
    "\n",
    "For fixed arr = np.arange(50)/50:\n",
    "\n",
    "For $\\lambda = 0.5~,~1,~1.5$ , save the values $F(arr;\\lambda)$ to a new variable $yi$, and print out their mean.\n",
    "\n",
    "## you may need np.exp()\n"
   ]
  },
  {
   "cell_type": "code",
   "execution_count": null,
   "metadata": {
    "collapsed": true
   },
   "outputs": [],
   "source": []
  },
  {
   "cell_type": "code",
   "execution_count": 1,
   "metadata": {
    "collapsed": true
   },
   "outputs": [],
   "source": [
    "# your function here\n",
    "import numpy as np\n",
    "\n",
    "def exp_cdf(arr,lam):\n",
    "    \"\"\"cdf of exp distribution with parameter lambda F(X,lambda)\n",
    "\n",
    "    Keyword arguments:\n",
    "    arr -- an array of input value for X\n",
    "    lam -- a positive value for parameter lambda\n",
    "    \"\"\" \n",
    "    \n",
    "    ##############################################################\n",
    "    ## Make sure we can deal with various input type of input arr\n",
    "    ## Transform input values into array if possible\n",
    "    ## If the type cannot be transformed into an array\n",
    "    ##    print out error message and \n",
    "    ##    return [-1] -- the value that cdf cannot achieve\n",
    "    ##############################################################\n",
    "\n",
    "    if( type(arr) != type(np.array([])) ):\n",
    "        try:\n",
    "            arr = np.array(arr,dtype=float)\n",
    "        except:\n",
    "            print('wrong input for x')\n",
    "            return np.array([-1])\n",
    "        \n",
    "    ##############################################################  \n",
    "    ## Note that: when x<=0, F(x,lambda) returns 0\n",
    "    ## So we mutiply (1 - lam*np.exp( -lam*arr ) ) by (arr>0) \n",
    "    ## to achieve this \n",
    "    ##############################################################\n",
    "    \n",
    "    return (1 - np.exp( -lam*arr ) )*(arr>0)\n"
   ]
  },
  {
   "cell_type": "code",
   "execution_count": null,
   "metadata": {
    "collapsed": true
   },
   "outputs": [],
   "source": []
  },
  {
   "cell_type": "code",
   "execution_count": 2,
   "metadata": {},
   "outputs": [
    {
     "name": "stdout",
     "output_type": "stream",
     "text": [
      "X= [-1, 1] , F(X,lam)= [-0.          0.39346934]\n",
      "<class 'numpy.ndarray'> \n",
      "\n",
      "X= ['-1', '1'] , F(X,lam)= [-0.          0.39346934]\n",
      "<class 'numpy.ndarray'> \n",
      "\n",
      "X= [-1  1] , F(X,lam)= [-0.          0.39346934]\n",
      "<class 'numpy.ndarray'> \n",
      "\n",
      "wrong input for x\n",
      "X= ['catTyping', '123'] , F(X,lam)= [-1]\n",
      "<class 'numpy.ndarray'> \n",
      "\n"
     ]
    }
   ],
   "source": [
    "##############################################################\n",
    "## here, we test if this function is correctly defined \n",
    "## make sure the function can deal with various input type\n",
    "## By using the example provided we test our function\n",
    "## eg: F([-1 , 1],0.5) should return \n",
    "##     [0 0.69673467014368329] of type numpy.ndarray\n",
    "##############################################################\n",
    "\n",
    "def print_test(testValue, funcValue):\n",
    "    \"\"\"print out:  testValue, exp_cdf(testValue,lam) and its type\n",
    "\n",
    "    Keyword arguments:\n",
    "    testValue -- values plug into exp_cdf\n",
    "    funcValue -- exp_cdf(testValue,lam) \n",
    "    \"\"\" \n",
    "    print('X=', testValue, ', F(X,lam)=',funcValue)\n",
    "    print( type(funcValue),'\\n')\n",
    "    \n",
    "value  = [-1,1]\n",
    "tester = exp_cdf(value,0.5)\n",
    "print_test(value,tester)\n",
    "\n",
    "value  = ['-1','1']\n",
    "tester = exp_cdf(value,0.5)\n",
    "print_test(value,tester)\n",
    "\n",
    "value  = np.array([-1,1])\n",
    "tester = exp_cdf(value,0.5)\n",
    "print_test(value,tester)\n",
    "\n",
    "value  = ['catTyping','123'] \n",
    "tester = exp_cdf(value,0.5)\n",
    "print_test(value,tester)\n"
   ]
  },
  {
   "cell_type": "code",
   "execution_count": 7,
   "metadata": {},
   "outputs": [
    {
     "name": "stdout",
     "output_type": "stream",
     "text": [
      "0.209120068211 0.361537165038 0.474279232124\n"
     ]
    }
   ],
   "source": [
    "# please don't change the value of arr or lambdai's\n",
    "arr = np.arange(50)/50\n",
    "\n",
    "lambda1 = 0.5\n",
    "y1 = exp_cdf(arr,lambda1)\n",
    "\n",
    "lambda2 = 1\n",
    "y2 = exp_cdf(arr,lambda2)\n",
    "\n",
    "lambda3 = 1.5\n",
    "y3 = exp_cdf(arr,lambda3)\n",
    "\n",
    "\n",
    "#print the mean of y1, the mean of y2, the mean of y3\n",
    "print(y1.mean(),y2.mean(),y3.mean())\n"
   ]
  },
  {
   "cell_type": "markdown",
   "metadata": {
    "collapsed": true
   },
   "source": [
    "# The following is just code without explanation\n",
    "# Problem 01"
   ]
  },
  {
   "cell_type": "code",
   "execution_count": 4,
   "metadata": {},
   "outputs": [
    {
     "name": "stdout",
     "output_type": "stream",
     "text": [
      "roll =  1 , probability =  0.16667\n",
      "roll =  133345 , probability =  2e-05\n",
      "roll =  123456 , probability =  2e-05\n",
      "roll =  12 , probability =  0.02778\n",
      "roll =  17 , probability =  0\n"
     ]
    }
   ],
   "source": [
    "import numpy as np\n",
    "rolls =  ['1','133345','123456','12','17']\n",
    "\n",
    "SS = range(1,7)\n",
    "\n",
    "def print_roll(roll, probability, ifzero = False):\n",
    "    if(ifzero == True):\n",
    "        probability = 0\n",
    "    print('roll = ', roll, ', probability = ', round(probability,5))\n",
    "    \n",
    "\n",
    "for roll in rolls:\n",
    "    n = len(roll)\n",
    "    prob = 0\n",
    "    ifzero = False\n",
    "        \n",
    "    for i in roll:\n",
    "        try:\n",
    "            val = int(i)\n",
    "        except:\n",
    "            val = 0\n",
    "        if(val not in SS):\n",
    "            ifzero = True\n",
    "            break\n",
    "    print_roll(roll, (1/6)**n,ifzero)\n"
   ]
  },
  {
   "cell_type": "markdown",
   "metadata": {},
   "source": [
    "# Problem 2\n"
   ]
  },
  {
   "cell_type": "code",
   "execution_count": 5,
   "metadata": {},
   "outputs": [
    {
     "name": "stdout",
     "output_type": "stream",
     "text": [
      "roll =  1 , probability =  0.28571\n",
      "roll =  133345 , probability =  3e-05\n",
      "roll =  123456 , probability =  1e-05\n",
      "roll =  12 , probability =  0.06803\n",
      "roll =  17 , probability =  0.0\n"
     ]
    }
   ],
   "source": [
    "rolls = ['1','133345','123456','12','17']\n",
    "def pmfg(x):\n",
    "    try:\n",
    "        val = int(x)\n",
    "    except:\n",
    "        val = 0.\n",
    "        return 0.\n",
    "    return (7-int(x))/21\n",
    "def prob(roll):\n",
    "    prob = 1\n",
    "    for i in roll:\n",
    "        prob *= pmfg(i)\n",
    "    return prob\n",
    "\n",
    "for roll in rolls:\n",
    "    print_roll(roll, prob(roll))"
   ]
  },
  {
   "cell_type": "markdown",
   "metadata": {},
   "source": [
    "# Problem 3"
   ]
  },
  {
   "cell_type": "code",
   "execution_count": 6,
   "metadata": {},
   "outputs": [
    {
     "name": "stdout",
     "output_type": "stream",
     "text": [
      "0.209120068211 0.361537165038 0.474279232124\n"
     ]
    }
   ],
   "source": [
    "# your function here\n",
    "import numpy as np\n",
    "\n",
    "def exp_cdf(arr,lam):\n",
    "    if( type(arr) != type(np.array([])) ):\n",
    "        try:\n",
    "            arr = np.array(arr,dtype=float)\n",
    "        except:\n",
    "            print('wrong input for x')\n",
    "            return np.array([-1])\n",
    "    return (1 - np.exp( -lam*arr ) )*(arr>0)\n",
    "\n",
    "# please don't change the value of arr or lambdai's\n",
    "arr = np.arange(50)/50\n",
    "\n",
    "lambda1 = 0.5\n",
    "y1 = exp_cdf(arr,lambda1)\n",
    "\n",
    "lambda2 = 1\n",
    "y2 = exp_cdf(arr,lambda2)\n",
    "\n",
    "lambda3 = 1.5\n",
    "y3 = exp_cdf(arr,lambda3)\n",
    "\n",
    "\n",
    "#print the mean of y1, the mean of y2, the mean of y3\n",
    "print(y1.mean(),y2.mean(),y3.mean())\n"
   ]
  },
  {
   "cell_type": "code",
   "execution_count": null,
   "metadata": {
    "collapsed": true
   },
   "outputs": [],
   "source": []
  }
 ],
 "metadata": {
  "kernelspec": {
   "display_name": "Python 3",
   "language": "python",
   "name": "python3"
  },
  "language_info": {
   "codemirror_mode": {
    "name": "ipython",
    "version": 3
   },
   "file_extension": ".py",
   "mimetype": "text/x-python",
   "name": "python",
   "nbconvert_exporter": "python",
   "pygments_lexer": "ipython3",
   "version": "3.6.0"
  }
 },
 "nbformat": 4,
 "nbformat_minor": 2
}
