{
 "cells": [
  {
   "cell_type": "markdown",
   "metadata": {},
   "source": [
    "# Basic Python\n",
    "##### Keywords: data type,function, loop, try/except, etc."
   ]
  },
  {
   "cell_type": "markdown",
   "metadata": {},
   "source": [
    "##  python cheat sheet (cont.)\n",
    "1. 'Markdown' format to type formula\n",
    "1. shift + return   compile\n",
    "1. esc + dd  delete a cell\n",
    "1. esc + r + y  clear printed result\n",
    "1. [*]  in front of a cell means 'running' \n",
    "1. use Tab to complete a variable/function\n"
   ]
  },
  {
   "cell_type": "code",
   "execution_count": null,
   "metadata": {
    "collapsed": true
   },
   "outputs": [],
   "source": [
    "#variable\n",
    "x = 1\n",
    "x5 = 10\n",
    "\n",
    "#5x = 10 variable name is wrong\n",
    "\n",
    "# Big/small letter different variables\n",
    "X = 100\n",
    "print('x =', x,', X =', X)\n",
    "\n",
    "\n",
    "# reassign values\n",
    "X = x5\n",
    "print('X = ',X)"
   ]
  },
  {
   "cell_type": "code",
   "execution_count": null,
   "metadata": {
    "collapsed": true
   },
   "outputs": [],
   "source": [
    "# 2 to the power 3\n",
    "p = 2**3\n",
    "print(p)"
   ]
  },
  {
   "cell_type": "code",
   "execution_count": null,
   "metadata": {
    "collapsed": true
   },
   "outputs": [],
   "source": [
    "# original x is 'int'\n",
    "# now x is 'str' \n",
    "# Okay to assign different types of values to the same variable\n",
    "x = '123'\n",
    "print(x, type(x))\n"
   ]
  },
  {
   "cell_type": "code",
   "execution_count": 6,
   "metadata": {},
   "outputs": [
    {
     "name": "stdout",
     "output_type": "stream",
     "text": [
      "value =  1 , type =  <class 'int'>\n",
      "12.0\n"
     ]
    }
   ],
   "source": [
    "# string -> int\n",
    "# only works for 'int' looking strings\n",
    "y = int(x)\n",
    "print('value = ', y,', type = ', type(y))\n",
    "\n",
    "#print(int('abd'))  error\n",
    "#print(int('12.'))  error\n",
    "#print(float('12.'))"
   ]
  },
  {
   "cell_type": "markdown",
   "metadata": {},
   "source": [
    "Compare the following two pieces of code: How indent works?\n"
   ]
  },
  {
   "cell_type": "code",
   "execution_count": 2,
   "metadata": {},
   "outputs": [
    {
     "name": "stdout",
     "output_type": "stream",
     "text": [
      "after if 1\n",
      "done 1\n"
     ]
    }
   ],
   "source": [
    "intss = 1\n",
    "\n",
    "if(intss>2):\n",
    "    print('if run!')\n",
    "\n",
    "print('after if',intss)\n",
    "print('done',intss)"
   ]
  },
  {
   "cell_type": "code",
   "execution_count": 1,
   "metadata": {},
   "outputs": [
    {
     "name": "stdout",
     "output_type": "stream",
     "text": [
      "done 1\n"
     ]
    }
   ],
   "source": [
    "intss = 1\n",
    "\n",
    "if(intss>2):\n",
    "    print('if run!')\n",
    "    print('inside if',intss)\n",
    "\n",
    "print('done',intss)"
   ]
  },
  {
   "cell_type": "code",
   "execution_count": null,
   "metadata": {
    "collapsed": true
   },
   "outputs": [],
   "source": []
  },
  {
   "cell_type": "code",
   "execution_count": null,
   "metadata": {
    "collapsed": true
   },
   "outputs": [],
   "source": [
    "#float vs int\n",
    "x = 100.111\n",
    "print('value = ', x,', type = ', type(x))"
   ]
  },
  {
   "cell_type": "code",
   "execution_count": null,
   "metadata": {
    "collapsed": true
   },
   "outputs": [],
   "source": [
    "x = 100.\n",
    "print('value = ', x,', type = ', type(x))"
   ]
  },
  {
   "cell_type": "code",
   "execution_count": null,
   "metadata": {
    "collapsed": true
   },
   "outputs": [],
   "source": [
    "x = float(100)\n",
    "print('value = ', x,', type = ', type(x))"
   ]
  },
  {
   "cell_type": "code",
   "execution_count": null,
   "metadata": {
    "collapsed": true
   },
   "outputs": [],
   "source": [
    "x = 100\n",
    "print('value = ', x,', type = ', type(x))"
   ]
  },
  {
   "cell_type": "code",
   "execution_count": null,
   "metadata": {
    "collapsed": true
   },
   "outputs": [],
   "source": [
    "x = 1e2\n",
    "print('value = ', x,', type = ', type(x))"
   ]
  },
  {
   "cell_type": "code",
   "execution_count": null,
   "metadata": {
    "collapsed": true
   },
   "outputs": [],
   "source": [
    "x = 100//1\n",
    "print('value = ', x,', type = ', type(x))"
   ]
  },
  {
   "cell_type": "code",
   "execution_count": null,
   "metadata": {
    "collapsed": true
   },
   "outputs": [],
   "source": [
    "x = 100/1\n",
    "print('value = ', x,', type = ', type(x))"
   ]
  },
  {
   "cell_type": "code",
   "execution_count": null,
   "metadata": {
    "collapsed": true
   },
   "outputs": [],
   "source": [
    "#string summation\n",
    "'123'+'456'"
   ]
  },
  {
   "cell_type": "code",
   "execution_count": 7,
   "metadata": {
    "collapsed": true
   },
   "outputs": [],
   "source": [
    "def type_print(x):\n",
    "    print('value = ', x, ', type = ', type(x))"
   ]
  },
  {
   "cell_type": "code",
   "execution_count": 8,
   "metadata": {},
   "outputs": [
    {
     "name": "stdout",
     "output_type": "stream",
     "text": [
      "value =  100.111 , type =  <class 'float'>\n",
      "value =  100.0 , type =  <class 'float'>\n",
      "value =  100.0 , type =  <class 'float'>\n",
      "value =  100 , type =  <class 'int'>\n",
      "value =  100.0 , type =  <class 'float'>\n",
      "value =  100 , type =  <class 'int'>\n",
      "value =  100.0 , type =  <class 'float'>\n"
     ]
    }
   ],
   "source": [
    "listx = [100.111, 100., float(100), 100, 1e2, 100//1, 100/1]\n",
    "for x in listx:\n",
    "    type_print(x)"
   ]
  },
  {
   "cell_type": "code",
   "execution_count": null,
   "metadata": {
    "collapsed": true
   },
   "outputs": [],
   "source": [
    "#python 3.x auto float\n",
    "2*3/4"
   ]
  },
  {
   "cell_type": "code",
   "execution_count": null,
   "metadata": {
    "collapsed": true
   },
   "outputs": [],
   "source": []
  }
 ],
 "metadata": {
  "kernelspec": {
   "display_name": "Python 3",
   "language": "python",
   "name": "python3"
  },
  "language_info": {
   "codemirror_mode": {
    "name": "ipython",
    "version": 3
   },
   "file_extension": ".py",
   "mimetype": "text/x-python",
   "name": "python",
   "nbconvert_exporter": "python",
   "pygments_lexer": "ipython3",
   "version": "3.6.0"
  }
 },
 "nbformat": 4,
 "nbformat_minor": 2
}
