{
 "cells": [
  {
   "cell_type": "markdown",
   "metadata": {},
   "source": [
    "# HW01,  Due at 5:00pm, Friday, February 02, 2018\n",
    "## Please submit your homework to blackboard with file name: hw01_01234.ipynb \n",
    "\n",
    "## Please use comments to  explain your code\n"
   ]
  },
  {
   "cell_type": "code",
   "execution_count": null,
   "metadata": {
    "collapsed": true
   },
   "outputs": [],
   "source": []
  },
  {
   "cell_type": "markdown",
   "metadata": {},
   "source": [
    "Problem 1:\n",
    "\n",
    "Complete the following for loop following comments\n"
   ]
  },
  {
   "cell_type": "code",
   "execution_count": null,
   "metadata": {
    "collapsed": true
   },
   "outputs": [],
   "source": [
    "for i in range(100):\n",
    "    #if i is divisible by 5, print out i and string 'divisible by 5' in the same line\n",
    "    #if i is divisible by 7, print out i and string 'divisible by 7' in the same line\n",
    "    #if i is divisible by 5 and 7, print out 'both'\n",
    "    #comment out: print('do your work here')\n",
    "    print('do your work here')"
   ]
  },
  {
   "cell_type": "code",
   "execution_count": 8,
   "metadata": {
    "collapsed": true
   },
   "outputs": [],
   "source": []
  },
  {
   "cell_type": "markdown",
   "metadata": {},
   "source": [
    "Problem 2:\n",
    "Given variable $z$ with value 1.1, do the following. Make sure you write comment(s). For now, you can just copy and past each question and write it as a comment\n",
    "1. print the value of z and type of z. The form of your print should be like : value z =  1.1 , type z = $<$class 'int'$>$\n",
    "1. define a variable $x$, whose value is $z^7$ round at 3 decimal place. NOTE: look up built-in function round() to see how it works\n",
    "1. print the value of $x$ and type of $x$. The form of print should be like before.\n",
    "1. transform x to float by using the built-in function float\n",
    "1. print the value of $x$ and type of $x$.\n",
    "1. transform x to string\n",
    "1. print the value of $x$ and type of $x$.\n",
    "\n"
   ]
  },
  {
   "cell_type": "code",
   "execution_count": 59,
   "metadata": {},
   "outputs": [
    {
     "name": "stdout",
     "output_type": "stream",
     "text": [
      "value z=  5 , type z =  <class 'int'>\n"
     ]
    }
   ],
   "source": [
    "z = 1.1\n",
    "#1.print the value of z and type of z. \n",
    "print('value z = ', z,', type z = ', type(z) )\n",
    "\n",
    "\n",
    "#2...."
   ]
  },
  {
   "cell_type": "code",
   "execution_count": null,
   "metadata": {
    "collapsed": true
   },
   "outputs": [],
   "source": []
  },
  {
   "cell_type": "markdown",
   "metadata": {},
   "source": [
    "Problem 3:\n",
    "\n",
    "1. define variable $y$ as the sum of string '123' and '456'\n",
    "1. transform y into a float type\n",
    "1. define variable $s$ as the product of 123 and 456\n",
    "1. if $y>s$ print out the value of $y-s$  "
   ]
  },
  {
   "cell_type": "code",
   "execution_count": null,
   "metadata": {},
   "outputs": [],
   "source": []
  },
  {
   "cell_type": "code",
   "execution_count": null,
   "metadata": {
    "collapsed": true
   },
   "outputs": [],
   "source": []
  }
 ],
 "metadata": {
  "kernelspec": {
   "display_name": "Python 3",
   "language": "python",
   "name": "python3"
  },
  "language_info": {
   "codemirror_mode": {
    "name": "ipython",
    "version": 3
   },
   "file_extension": ".py",
   "mimetype": "text/x-python",
   "name": "python",
   "nbconvert_exporter": "python",
   "pygments_lexer": "ipython3",
   "version": "3.6.0"
  }
 },
 "nbformat": 4,
 "nbformat_minor": 2
}
