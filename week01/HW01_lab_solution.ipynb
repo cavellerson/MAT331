{
 "cells": [
  {
   "cell_type": "markdown",
   "metadata": {},
   "source": [
    "# HW01,  Solution ( there are more ways to solve these problems)"
   ]
  },
  {
   "cell_type": "code",
   "execution_count": null,
   "metadata": {
    "collapsed": true
   },
   "outputs": [],
   "source": []
  },
  {
   "cell_type": "markdown",
   "metadata": {},
   "source": [
    "Problem 1:\n",
    "\n",
    "Complete the following for loop following comments\n"
   ]
  },
  {
   "cell_type": "code",
   "execution_count": 1,
   "metadata": {},
   "outputs": [
    {
     "name": "stdout",
     "output_type": "stream",
     "text": [
      "0 divisible by 5\n",
      "0 divisible by 7\n",
      "both\n",
      "5 divisible by 5\n",
      "7 divisible by 7\n",
      "10 divisible by 5\n",
      "14 divisible by 7\n",
      "15 divisible by 5\n",
      "20 divisible by 5\n",
      "21 divisible by 7\n",
      "25 divisible by 5\n",
      "28 divisible by 7\n",
      "30 divisible by 5\n",
      "35 divisible by 5\n",
      "35 divisible by 7\n",
      "both\n",
      "40 divisible by 5\n",
      "42 divisible by 7\n",
      "45 divisible by 5\n",
      "49 divisible by 7\n",
      "50 divisible by 5\n",
      "55 divisible by 5\n",
      "56 divisible by 7\n",
      "60 divisible by 5\n",
      "63 divisible by 7\n",
      "65 divisible by 5\n",
      "70 divisible by 5\n",
      "70 divisible by 7\n",
      "both\n",
      "75 divisible by 5\n",
      "77 divisible by 7\n",
      "80 divisible by 5\n",
      "84 divisible by 7\n",
      "85 divisible by 5\n",
      "90 divisible by 5\n",
      "91 divisible by 7\n",
      "95 divisible by 5\n",
      "98 divisible by 7\n"
     ]
    }
   ],
   "source": [
    "for i in range(100):\n",
    "    if( i%5 == 0 ):\n",
    "        print(i, 'divisible by 5')\n",
    "    \n",
    "    if( i%7 == 0 ):\n",
    "        print(i, 'divisible by 7')\n",
    "        \n",
    "    if( i%35 == 0):\n",
    "        print('both')\n",
    "    #print('do your work here')"
   ]
  },
  {
   "cell_type": "code",
   "execution_count": 8,
   "metadata": {
    "collapsed": true
   },
   "outputs": [],
   "source": []
  },
  {
   "cell_type": "markdown",
   "metadata": {},
   "source": [
    "Problem 2:\n",
    "Given variable $z$ with value 1.1, do the following. Make sure you write comment(s). For now, you can just copy and past each question and write it as a comment\n",
    "1. print the value of z and type of z. The form of your print should be like : value z =  1.1 , type z = $<$class 'int'$>$\n",
    "1. define a variable $x$, whose value is $z^7$ round at 3 decimal place. NOTE: look up built-in function round() to see how it works\n",
    "1. print the value of $x$ and type of $x$. The form of print should be like before.\n",
    "1. transform x to float by using the built-in function float\n",
    "1. print the value of $x$ and type of $x$.\n",
    "1. transform x to string\n",
    "1. print the value of $x$ and type of $x$.\n",
    "\n"
   ]
  },
  {
   "cell_type": "code",
   "execution_count": 3,
   "metadata": {},
   "outputs": [
    {
     "name": "stdout",
     "output_type": "stream",
     "text": [
      "value z =  1.1 , type z =  <class 'float'>\n",
      "value x =  1.949 , type x =  <class 'float'>\n",
      "value x =  1.949 , type x =  <class 'float'>\n",
      "value x =  1.949 , type x =  <class 'str'>\n"
     ]
    }
   ],
   "source": [
    "z = 1.1\n",
    "#1.print the value of z and type of z. \n",
    "print('value z = ', z,', type z = ', type(z) )\n",
    "\n",
    "#2.define a variable   , whose value is  z^7 round at 3 decimal place.\n",
    "x = round(z**7,3)\n",
    "\n",
    "#3 print the value of  x  and type of  x\n",
    "print('value x = ', x,', type x = ', type(x) )\n",
    "\n",
    "#4 transform x to float by using the built-in function float\n",
    "x = float(x)\n",
    "\n",
    "#5 print the value of  xx  and type of  xx .\n",
    "print('value x = ', x,', type x = ', type(x) )\n",
    "\n",
    "#6 transform x to string\n",
    "x = str(x)\n",
    "\n",
    "#7 print the value of  x  and type of  x .\n",
    "print('value x = ', x,', type x = ', type(x) )\n"
   ]
  },
  {
   "cell_type": "code",
   "execution_count": null,
   "metadata": {
    "collapsed": true
   },
   "outputs": [],
   "source": []
  },
  {
   "cell_type": "markdown",
   "metadata": {},
   "source": [
    "Problem 3:\n",
    "\n",
    "1. define variable $y$ as the sum of string '123' and '456'\n",
    "1. transform y into a float type\n",
    "1. define variable $s$ as the product of 123 and 456\n",
    "1. if $y>s$ print out the value of $y-s$  "
   ]
  },
  {
   "cell_type": "code",
   "execution_count": 4,
   "metadata": {},
   "outputs": [
    {
     "name": "stdout",
     "output_type": "stream",
     "text": [
      "67368.0\n"
     ]
    }
   ],
   "source": [
    "#1. define variable  y  as the sum of string '123' and '456'\n",
    "y =  '123' + '456'\n",
    "\n",
    "#2. transform y into a float type\n",
    "y = float(y)\n",
    "\n",
    "#3. define variable  S  as the product of 123 and 456\n",
    "s = 123*456\n",
    "\n",
    "#4 if y>s, print y-s\n",
    "if( y>s ):\n",
    "    print(y-s)"
   ]
  },
  {
   "cell_type": "code",
   "execution_count": null,
   "metadata": {
    "collapsed": true
   },
   "outputs": [],
   "source": []
  }
 ],
 "metadata": {
  "kernelspec": {
   "display_name": "Python 3",
   "language": "python",
   "name": "python3"
  },
  "language_info": {
   "codemirror_mode": {
    "name": "ipython",
    "version": 3
   },
   "file_extension": ".py",
   "mimetype": "text/x-python",
   "name": "python",
   "nbconvert_exporter": "python",
   "pygments_lexer": "ipython3",
   "version": "3.6.0"
  }
 },
 "nbformat": 4,
 "nbformat_minor": 2
}
