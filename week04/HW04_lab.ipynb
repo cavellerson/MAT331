{
 "cells": [
  {
   "cell_type": "markdown",
   "metadata": {},
   "source": [
    "# The Inverse Transform\n",
    "\n",
    "##### Keywords: sampling, inverse transform"
   ]
  },
  {
   "cell_type": "code",
   "execution_count": 4,
   "metadata": {
    "collapsed": true,
    "hide": true
   },
   "outputs": [],
   "source": [
    "import numpy as np\n",
    "import matplotlib.pyplot as plt\n"
   ]
  },
  {
   "cell_type": "markdown",
   "metadata": {},
   "source": [
    "## Here you can use lab04_inversetransform.ipynb as reference to built  inverse samplings for exponential distribution with parameter $\\lambda$\n",
    "\n",
    "1. Define cdf of exponential distributions with parameter $\\lambda$ -- This has been done in HW02 -- exp_cdf(arr,lam)\n",
    "\n",
    "1. Define the inverse function of cdf with parameter $\\lambda$ -- invCDF(arr,lam)\n",
    "\n",
    "1. Define the pdf of exponential distributions with parameter $\\lambda$ -- This has been done in Lab04 -- exp_pdf(arr,lam)\n",
    "\n",
    "1. Let N = 10000, draw N random numbers from uniform distribution U[0,1] and save these numbers into an array: R\n",
    "\n",
    "1. Use invCDF:  for each lam = 0.5, 1, 1.5, calculate X = invCDF(R,lam) separatly and save them as X1, X2, X3\n",
    "\n",
    "1. plot $\\textit{density}$ histogram of X1 and exp_cdf with lam = 0.5 on the same figure;\n",
    "1. plot $\\textit{density}$ histogram of X2 and exp_cdf with lam = 1 on the same figure;\n",
    "1. plot $\\textit{density}$ histogram of X3 and exp_cdf with lam = 1.5 on the same figure;\n",
    "\n",
    "1. For X1 only:\n",
    "    1. Consider aa = np.linspace(1e-5, 3, 200)\n",
    "    1. For each A in aa, calculate {the number of samples < A}/ total number of samples; Then\n",
    "     store the result in an array: CDFarr\n",
    "    1. Draw a dotted plot '.', where x-axis corresponds to aa and y-axis corresponds to CDFarr\n",
    "    1. Draw a curve with  '-', where x-axis corresponds to aa and y-axis corresponds to exp_CDF(aa,0.5)\n",
    "    \n",
    "\n",
    "# Your result should show the three figures sepcified in 6, 7, 8 as the above; And show the figure specified in 9.C and another figure specified in 9.D\n"
   ]
  },
  {
   "cell_type": "code",
   "execution_count": null,
   "metadata": {
    "collapsed": true
   },
   "outputs": [],
   "source": []
  }
 ],
 "metadata": {
  "anaconda-cloud": {},
  "celltoolbar": "Edit Metadata",
  "kernelspec": {
   "display_name": "Python 3",
   "language": "python",
   "name": "python3"
  },
  "language_info": {
   "codemirror_mode": {
    "name": "ipython",
    "version": 3
   },
   "file_extension": ".py",
   "mimetype": "text/x-python",
   "name": "python",
   "nbconvert_exporter": "python",
   "pygments_lexer": "ipython3",
   "version": "3.6.0"
  }
 },
 "nbformat": 4,
 "nbformat_minor": 1
}
