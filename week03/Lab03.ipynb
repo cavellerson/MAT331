{
 "cells": [
  {
   "cell_type": "markdown",
   "metadata": {},
   "source": [
    "# Numpy and First plot -- histogram\n"
   ]
  },
  {
   "cell_type": "markdown",
   "metadata": {},
   "source": [
    "##  python cheat sheet (cont.)\n",
    "1. 'Markdown' format to type formula\n",
    "1. shift + return   compile\n",
    "1. esc + dd  delete a cell\n",
    "1. esc + r + y  clear printed result\n",
    "1. [*]  in front of a cell means 'running' \n",
    "1. use Tab to complete a variable/function\n"
   ]
  },
  {
   "cell_type": "markdown",
   "metadata": {},
   "source": [
    "# numpy\n",
    "must import to be used"
   ]
  },
  {
   "cell_type": "code",
   "execution_count": 2,
   "metadata": {},
   "outputs": [
    {
     "name": "stdout",
     "output_type": "stream",
     "text": [
      "4\n"
     ]
    }
   ],
   "source": [
    "import numpy as np #np for short\n",
    "#use built-in help & dir\n",
    "#dir(range)\n",
    "#help(range.count)\n",
    "\n",
    "# use lambda to define function quickly\n",
    "# this is saying g maps x to x**2\n",
    "\n",
    "g = lambda x: x**2\n",
    "print(g(2))"
   ]
  },
  {
   "cell_type": "code",
   "execution_count": 3,
   "metadata": {},
   "outputs": [
    {
     "name": "stdout",
     "output_type": "stream",
     "text": [
      "[[0 1]\n",
      " [2 3]\n",
      " [4 5]]\n"
     ]
    }
   ],
   "source": [
    "# array iteration\n",
    "b = np.arange(6).reshape(3,2)\n",
    "print(b)"
   ]
  },
  {
   "cell_type": "code",
   "execution_count": 4,
   "metadata": {},
   "outputs": [
    {
     "name": "stdout",
     "output_type": "stream",
     "text": [
      "iteration\n",
      "[0 1]\n",
      "iteration\n",
      "[2 3]\n",
      "iteration\n",
      "[4 5]\n"
     ]
    }
   ],
   "source": [
    "for r in b:\n",
    "    print('iteration')\n",
    "    print(r)"
   ]
  },
  {
   "cell_type": "code",
   "execution_count": 5,
   "metadata": {},
   "outputs": [
    {
     "name": "stdout",
     "output_type": "stream",
     "text": [
      "iteration\n",
      "0\n",
      "1\n",
      "iteration\n",
      "2\n",
      "3\n",
      "iteration\n",
      "4\n",
      "5\n"
     ]
    }
   ],
   "source": [
    "for (a,b) in b:\n",
    "    print('iteration')\n",
    "    print(a)\n",
    "    print(b)"
   ]
  },
  {
   "cell_type": "code",
   "execution_count": 7,
   "metadata": {},
   "outputs": [
    {
     "name": "stdout",
     "output_type": "stream",
     "text": [
      "[[[ 0  1  2  3  4  5  6  7  8  9]\n",
      "  [10 11 12 13 14 15 16 17 18 19]]\n",
      "\n",
      " [[20 21 22 23 24 25 26 27 28 29]\n",
      "  [30 31 32 33 34 35 36 37 38 39]]\n",
      "\n",
      " [[40 41 42 43 44 45 46 47 48 49]\n",
      "  [50 51 52 53 54 55 56 57 58 59]]] \n",
      "\n",
      "iteration\n",
      "[[ 0  1  2  3  4  5  6  7  8  9]\n",
      " [10 11 12 13 14 15 16 17 18 19]]\n",
      "iteration\n",
      "[[20 21 22 23 24 25 26 27 28 29]\n",
      " [30 31 32 33 34 35 36 37 38 39]]\n",
      "iteration\n",
      "[[40 41 42 43 44 45 46 47 48 49]\n",
      " [50 51 52 53 54 55 56 57 58 59]]\n"
     ]
    }
   ],
   "source": [
    "# array iteration\n",
    "b = np.arange(60).reshape(3,2,10)\n",
    "print(b,'\\n')\n",
    "\n",
    "for r in b:\n",
    "    print('iteration')\n",
    "    print(r)"
   ]
  },
  {
   "cell_type": "code",
   "execution_count": 8,
   "metadata": {
    "collapsed": true
   },
   "outputs": [],
   "source": [
    "# create arrays:\n",
    "x1 = np.ones((2,3), dtype=float)\n",
    "x2 = np.ones((2,3), dtype=int)\n",
    "x3 = np.ones((2,3))"
   ]
  },
  {
   "cell_type": "code",
   "execution_count": 9,
   "metadata": {
    "collapsed": true
   },
   "outputs": [],
   "source": [
    "# a list of arrays\n",
    "XX = [x1,x2,x3]"
   ]
  },
  {
   "cell_type": "code",
   "execution_count": 10,
   "metadata": {},
   "outputs": [
    {
     "name": "stdout",
     "output_type": "stream",
     "text": [
      "[[ 1.  1.  1.]\n",
      " [ 1.  1.  1.]] \n",
      "\n",
      "[[1 1 1]\n",
      " [1 1 1]] \n",
      "\n",
      "[[ 1.  1.  1.]\n",
      " [ 1.  1.  1.]] \n",
      "\n"
     ]
    }
   ],
   "source": [
    "# '\\n' means an empty line\n",
    "for x in XX:\n",
    "    print(x,'\\n')"
   ]
  },
  {
   "cell_type": "code",
   "execution_count": 11,
   "metadata": {},
   "outputs": [
    {
     "name": "stdout",
     "output_type": "stream",
     "text": [
      "[1 3 5]\n",
      "[ 0  5 10 15 20 25]\n",
      "[ 0  5 10 15 20 25 30]\n"
     ]
    }
   ],
   "source": [
    "# Other ways to create arrays\n",
    "xarange = np.arange(1, 7, 2, dtype=int)\n",
    "print(xarange)\n",
    "\n",
    "xarange = np.arange(0, 30, 5, dtype=int) # does not have 30 in it\n",
    "print(xarange)\n",
    "\n",
    "xarange = np.arange(0, 31, 5, dtype=int) # does  have 30 in it\n",
    "print(xarange)"
   ]
  },
  {
   "cell_type": "code",
   "execution_count": 12,
   "metadata": {},
   "outputs": [
    {
     "name": "stdout",
     "output_type": "stream",
     "text": [
      "[ 1.  1.  1.]\n",
      "[[ 1.]\n",
      " [ 1.]\n",
      " [ 1.]]\n"
     ]
    }
   ],
   "source": [
    "ones_r = np.ones((3,)) #1-d array: r-vector\n",
    "ones_c = np.ones((3,1)) #3 by 1 matrix\n",
    "\n",
    "print(ones_r)\n",
    "print(ones_c)\n"
   ]
  },
  {
   "cell_type": "code",
   "execution_count": 13,
   "metadata": {},
   "outputs": [
    {
     "name": "stdout",
     "output_type": "stream",
     "text": [
      "[ 1.  1.  1.] (3,)\n",
      "[[ 1.  1.  1.]] (1, 3)\n",
      "[ 1.  1.  1.] (3,)\n"
     ]
    }
   ],
   "source": [
    "# Transpose .T\n",
    "# for 1-d array, doesn't work\n",
    "ones_r_transpose = ones_r.T\n",
    "print(ones_r_transpose, ones_r_transpose.shape)\n",
    "\n",
    "# Transpose .T\n",
    "# still 2-d: 1 by 3\n",
    "ones_c_transpose = ones_c.T\n",
    "print(ones_c_transpose,ones_c_transpose.shape)\n",
    "\n",
    "\n",
    "#.flatten()  1-d array\n",
    "ones_c_transpose_to_vector = ones_c_transpose.flatten()\n",
    "print(ones_c_transpose_to_vector,ones_c_transpose_to_vector.shape)\n",
    "\n"
   ]
  },
  {
   "cell_type": "code",
   "execution_count": 14,
   "metadata": {},
   "outputs": [
    {
     "name": "stdout",
     "output_type": "stream",
     "text": [
      "[1.0, 1.0, 1.0]\n"
     ]
    }
   ],
   "source": [
    "ones_list = ones_r.tolist()\n",
    "print(ones_list)\n",
    "\n",
    "# a list does not have shape\n",
    "# print(ones_list.shape) # will not run\n"
   ]
  },
  {
   "cell_type": "code",
   "execution_count": 15,
   "metadata": {},
   "outputs": [
    {
     "name": "stdout",
     "output_type": "stream",
     "text": [
      "(3,)\n"
     ]
    }
   ],
   "source": [
    "list123 = [1,2,3]\n",
    "arr123 = np.array(list123)\n",
    "print(arr123.shape)\n",
    "\n"
   ]
  },
  {
   "cell_type": "code",
   "execution_count": 43,
   "metadata": {},
   "outputs": [
    {
     "name": "stdout",
     "output_type": "stream",
     "text": [
      "Help on function linspace in module numpy.core.function_base:\n",
      "\n",
      "linspace(start, stop, num=50, endpoint=True, retstep=False, dtype=None)\n",
      "    Return evenly spaced numbers over a specified interval.\n",
      "    \n",
      "    Returns `num` evenly spaced samples, calculated over the\n",
      "    interval [`start`, `stop`].\n",
      "    \n",
      "    The endpoint of the interval can optionally be excluded.\n",
      "    \n",
      "    Parameters\n",
      "    ----------\n",
      "    start : scalar\n",
      "        The starting value of the sequence.\n",
      "    stop : scalar\n",
      "        The end value of the sequence, unless `endpoint` is set to False.\n",
      "        In that case, the sequence consists of all but the last of ``num + 1``\n",
      "        evenly spaced samples, so that `stop` is excluded.  Note that the step\n",
      "        size changes when `endpoint` is False.\n",
      "    num : int, optional\n",
      "        Number of samples to generate. Default is 50. Must be non-negative.\n",
      "    endpoint : bool, optional\n",
      "        If True, `stop` is the last sample. Otherwise, it is not included.\n",
      "        Default is True.\n",
      "    retstep : bool, optional\n",
      "        If True, return (`samples`, `step`), where `step` is the spacing\n",
      "        between samples.\n",
      "    dtype : dtype, optional\n",
      "        The type of the output array.  If `dtype` is not given, infer the data\n",
      "        type from the other input arguments.\n",
      "    \n",
      "        .. versionadded:: 1.9.0\n",
      "    \n",
      "    Returns\n",
      "    -------\n",
      "    samples : ndarray\n",
      "        There are `num` equally spaced samples in the closed interval\n",
      "        ``[start, stop]`` or the half-open interval ``[start, stop)``\n",
      "        (depending on whether `endpoint` is True or False).\n",
      "    step : float, optional\n",
      "        Only returned if `retstep` is True\n",
      "    \n",
      "        Size of spacing between samples.\n",
      "    \n",
      "    \n",
      "    See Also\n",
      "    --------\n",
      "    arange : Similar to `linspace`, but uses a step size (instead of the\n",
      "             number of samples).\n",
      "    logspace : Samples uniformly distributed in log space.\n",
      "    \n",
      "    Examples\n",
      "    --------\n",
      "    >>> np.linspace(2.0, 3.0, num=5)\n",
      "    array([ 2.  ,  2.25,  2.5 ,  2.75,  3.  ])\n",
      "    >>> np.linspace(2.0, 3.0, num=5, endpoint=False)\n",
      "    array([ 2. ,  2.2,  2.4,  2.6,  2.8])\n",
      "    >>> np.linspace(2.0, 3.0, num=5, retstep=True)\n",
      "    (array([ 2.  ,  2.25,  2.5 ,  2.75,  3.  ]), 0.25)\n",
      "    \n",
      "    Graphical illustration:\n",
      "    \n",
      "    >>> import matplotlib.pyplot as plt\n",
      "    >>> N = 8\n",
      "    >>> y = np.zeros(N)\n",
      "    >>> x1 = np.linspace(0, 10, N, endpoint=True)\n",
      "    >>> x2 = np.linspace(0, 10, N, endpoint=False)\n",
      "    >>> plt.plot(x1, y, 'o')\n",
      "    [<matplotlib.lines.Line2D object at 0x...>]\n",
      "    >>> plt.plot(x2, y + 0.5, 'o')\n",
      "    [<matplotlib.lines.Line2D object at 0x...>]\n",
      "    >>> plt.ylim([-0.5, 1])\n",
      "    (-0.5, 1)\n",
      "    >>> plt.show()\n",
      "\n"
     ]
    }
   ],
   "source": [
    "#X = np.linspace(0,4*np.pi,1000)\n",
    "X = np.linspace(0,1,5)\n",
    "help(np.linspace)"
   ]
  },
  {
   "cell_type": "code",
   "execution_count": 16,
   "metadata": {},
   "outputs": [
    {
     "name": "stdout",
     "output_type": "stream",
     "text": [
      "[ 1.1  2.4  4.6] [0 1 2]\n",
      "[ inf  2.4  2.3]\n",
      "[ 0.   2.4  9.2]\n",
      "[  1.     2.4   21.16]\n"
     ]
    },
    {
     "name": "stderr",
     "output_type": "stream",
     "text": [
      "/Library/Frameworks/Python.framework/Versions/3.6/lib/python3.6/site-packages/ipykernel_launcher.py:7: RuntimeWarning: divide by zero encountered in true_divide\n",
      "  import sys\n"
     ]
    }
   ],
   "source": [
    "# array operations\n",
    "a = np.array([1.1,2.4,4.6])\n",
    "\n",
    "# an array [0 1 2]\n",
    "b = np.arange(3)\n",
    "print(a,b)\n",
    "print(a/b) # b[0] is zero will receive warning message\n",
    "print(a*b) # entry-wise product\n",
    "print(a**b) # gives 1.1**0, 2.4**1, 4.6**2\n"
   ]
  },
  {
   "cell_type": "code",
   "execution_count": 18,
   "metadata": {},
   "outputs": [
    {
     "name": "stdout",
     "output_type": "stream",
     "text": [
      "sum 13 13\n",
      "max 4 4\n",
      "min 1 1\n",
      "location of max 1\n",
      "location of min 0\n"
     ]
    }
   ],
   "source": [
    "# min, max, sum\n",
    "a = np.array([1,4,3,1,4])\n",
    "\n",
    "# either do np.sum() or a.sum()\n",
    "print('sum',a.sum(),np.sum(a))\n",
    "print('max',a.max(),np.max(a))\n",
    "print('min',a.min(),np.min(a))\n",
    "print('location of max',a.argmax()) #the first max shows up\n",
    "print('location of min',a.argmin()) #the first min shows up\n"
   ]
  },
  {
   "cell_type": "code",
   "execution_count": 47,
   "metadata": {},
   "outputs": [
    {
     "name": "stdout",
     "output_type": "stream",
     "text": [
      "before sort [1 4 3 1 4]\n",
      "after sort [1 1 3 4 4]\n"
     ]
    }
   ],
   "source": [
    "\n",
    "a = np.array([1,4,3,1,4])\n",
    "print('before sort', a)\n",
    "\n",
    "# a.sort() changes a into sorted order\n",
    "a.sort()\n",
    "\n",
    "print('after sort',a)\n",
    "\n"
   ]
  },
  {
   "cell_type": "code",
   "execution_count": 20,
   "metadata": {},
   "outputs": [
    {
     "name": "stdout",
     "output_type": "stream",
     "text": [
      "[-1  4 -3  1  5  4] [False  True False  True  True  True]\n",
      "[4 1 5 4] values in array a where are bigger than 0\n"
     ]
    }
   ],
   "source": [
    "# comparison\n",
    "a = np.array([-1,4,-3,1,5,4])\n",
    "print(a, a>0)\n",
    "\n",
    "# returns values in the array a, where they are greater than 0\n",
    "print(a[a>0],'values in array a where are bigger than 0')\n",
    "\n"
   ]
  },
  {
   "cell_type": "code",
   "execution_count": 21,
   "metadata": {},
   "outputs": [
    {
     "name": "stdout",
     "output_type": "stream",
     "text": [
      "[-1  4 -3  1  5  4]\n",
      "[1 3 4 5] index of values in array a, who  are bigger than 0\n"
     ]
    }
   ],
   "source": [
    "print(a)\n",
    "\n",
    "# returns index of values in the array a, where the corresponding values are greater than 0\n",
    "print(np.where(a > 0)[0], 'index of values in array a, who  are bigger than 0' )"
   ]
  },
  {
   "cell_type": "code",
   "execution_count": 22,
   "metadata": {},
   "outputs": [
    {
     "name": "stdout",
     "output_type": "stream",
     "text": [
      "[[0 1 2 3 4]\n",
      " [5 6 7 8 9]]\n",
      "4.5\n",
      "[ 2.  7.]\n",
      "[ 2.5  3.5  4.5  5.5  6.5]\n",
      "[ 2.  7.]\n"
     ]
    }
   ],
   "source": [
    "# statistics\n",
    "# percentage of array a >3\n",
    "np.sum(a>3)/len(a)\n",
    "a = np.arange(10).reshape(2,5)\n",
    "print(a)\n",
    "print(np.median(a))#treat a as one array\n",
    "print(np.median(a,axis = 1)) # calculate median of each row\n",
    "print(np.median(a,axis = 0)) # calculate median of each column\n",
    "print(np.mean(a,axis = 1))# calculate empirical mean of each column "
   ]
  },
  {
   "cell_type": "code",
   "execution_count": 24,
   "metadata": {},
   "outputs": [
    {
     "name": "stdout",
     "output_type": "stream",
     "text": [
      "1.0\n",
      "0.666666666667\n"
     ]
    }
   ],
   "source": [
    "# statistics\n",
    "# variance\n",
    "def emp_var(arr1):\n",
    "    return np.sum((arr1-np.mean(arr1))**2) / (len(arr1)-1) #empirical variance\n",
    "\n",
    "arr1 = np.array([1,2,3])\n",
    "print(emp_var(arr1))\n",
    "print(np.var(arr1))\n"
   ]
  },
  {
   "cell_type": "markdown",
   "metadata": {},
   "source": [
    "## The seed is an integer value. Any program that starts with the same seed will generate exactly the same sequence of random numbers each time it is run. \n",
    "\n",
    "## This can be useful for debugging purposes, but one does not need to specify the seed and in fact, when we perform multiple runs of the same simulation to be averaged together, we want each such trial to have a different sequence of random numbers. If this command is not run, NumPy automatically selects a random seed (based on the time) that is different every time a program is run."
   ]
  },
  {
   "cell_type": "code",
   "execution_count": 27,
   "metadata": {},
   "outputs": [
    {
     "name": "stdout",
     "output_type": "stream",
     "text": [
      "seed =  123 [ 0.69646919  0.28613933  0.22685145  0.55131477  0.71946897]\n",
      "seed =  293423 [ 0.33677247  0.52693437  0.79529578  0.78867702  0.02147624]\n",
      "seed =  293423 [ 0.33677247  0.52693437  0.79529578  0.78867702  0.02147624]\n",
      "no seed [ 0.84612516  0.0704939   0.1526965   0.77831701  0.80821151]\n",
      "no seed [ 0.82198398  0.90239653  0.8385685   0.02638565  0.33681448]\n",
      "no seed [ 0.46480928  0.61686496  0.43767263  0.15292493  0.20882971]\n"
     ]
    }
   ],
   "source": [
    "# An array of random numbers in the half-open interval [0.0, 1.0) can be generated:\n",
    "\n",
    "seed = 123\n",
    "np.random.seed(123)\n",
    "print('seed = ', seed , np.random.rand(5))\n",
    "\n",
    "np.random.seed(293423)\n",
    "print('seed = ', 293423,  np.random.rand(5))\n",
    "\n",
    "np.random.seed(293423)\n",
    "print('seed = ', 293423,  np.random.rand(5))\n",
    "\n",
    "\n",
    "print('no seed',np.random.rand(5 ))\n",
    "print('no seed',np.random.rand(5 ))\n",
    "print('no seed',np.random.rand(5 ))"
   ]
  },
  {
   "cell_type": "code",
   "execution_count": 30,
   "metadata": {},
   "outputs": [
    {
     "name": "stdout",
     "output_type": "stream",
     "text": [
      "[ 0.4359949   0.02592623  0.54966248]\n",
      "[ 0.4359949   0.02592623  0.54966248]\n",
      "[ 0.4359949   0.02592623  0.54966248]\n",
      "[ 0.4359949   0.02592623  0.54966248]\n",
      "[ 0.4359949   0.02592623  0.54966248]\n"
     ]
    }
   ],
   "source": [
    "# when assign seed, generate the same random numbers each time\n",
    "for i in range(1,6):\n",
    "    np.random.seed(2)\n",
    "    print(np.random.rand(3))"
   ]
  },
  {
   "cell_type": "code",
   "execution_count": 31,
   "metadata": {},
   "outputs": [
    {
     "name": "stdout",
     "output_type": "stream",
     "text": [
      "[ 0.43532239  0.4203678   0.33033482]\n",
      "[ 0.20464863  0.61927097  0.29965467]\n",
      "[ 0.26682728  0.62113383  0.52914209]\n",
      "[ 0.13457995  0.51357812  0.18443987]\n",
      "[ 0.78533515  0.85397529  0.49423684]\n"
     ]
    }
   ],
   "source": [
    "# when not assign seed, generate the different random numbers each time\n",
    "\n",
    "for i in range(1,6):\n",
    "    #np.random.seed(2) \n",
    "    print(np.random.rand(3))"
   ]
  },
  {
   "cell_type": "code",
   "execution_count": 32,
   "metadata": {},
   "outputs": [
    {
     "data": {
      "text/plain": [
       "array([[ 0.84656149,  0.07964548,  0.50524609],\n",
       "       [ 0.0652865 ,  0.42812233,  0.09653092]])"
      ]
     },
     "execution_count": 32,
     "metadata": {},
     "output_type": "execute_result"
    }
   ],
   "source": [
    "np.random.rand(2,3)"
   ]
  },
  {
   "cell_type": "markdown",
   "metadata": {},
   "source": [
    "# pi: np.pi;  Euler's number e: np.e; built in functions like log, sine, cos, etc."
   ]
  },
  {
   "cell_type": "code",
   "execution_count": 33,
   "metadata": {},
   "outputs": [
    {
     "name": "stdout",
     "output_type": "stream",
     "text": [
      "pi:  3.141592653589793\n",
      "sin(pi):  1.22464679915e-16\n",
      "euler's number: 2.718281828459045\n",
      "natural log (e) : 1.0\n",
      "exponential 2.71828182846\n"
     ]
    }
   ],
   "source": [
    "import numpy as np\n",
    "print('pi: ',np.pi)\n",
    "print('sin(pi): ',np.sin(np.pi))\n",
    "print('euler\\'s number:', np.e)\n",
    "print('natural log (e) :',np.log(np.e))\n",
    "print('exponential',np.exp(1))\n"
   ]
  },
  {
   "cell_type": "code",
   "execution_count": null,
   "metadata": {
    "collapsed": true
   },
   "outputs": [],
   "source": [
    "\n"
   ]
  },
  {
   "cell_type": "markdown",
   "metadata": {},
   "source": [
    "## histogram and density histogram\n",
    "Here are the exam grades of 15 students: \n",
    "\n",
    "[88, 48, 60, 51, 57, 85, 69, 75, 97, 72, 71, 79, 65, 63, 73]\n",
    "\n",
    "1. [40, 50)  count 1\n",
    "1. [50, 60)  count 2\n",
    "1. [60, 70)  count 4\n",
    "1. [70, 80)  count 1\n",
    "1. [80, 90)  count 2\n",
    "1. [90, 100) count 1\n"
   ]
  },
  {
   "cell_type": "code",
   "execution_count": 34,
   "metadata": {},
   "outputs": [
    {
     "data": {
      "image/png": "[encoded data removed]",
      "text/plain": [
       "<matplotlib.figure.Figure at 0x1054c2470>"
      ]
     },
     "metadata": {},
     "output_type": "display_data"
    }
   ],
   "source": [
    "# need to import this, in order to use it\n",
    "import matplotlib.pyplot as plt\n",
    "import numpy as np\n",
    "\n",
    "x = [88, 48, 60, 51, 57, 85, 69, 75, 97, 72, 71, 79, 65, 63, 73]\n",
    "\n",
    "\n",
    "# very first histogram, \n",
    "plt.hist(x,bins = 6) # divide [minx, maxx] into 6 bins evenly\n",
    "\n",
    "# must write plt.show() for your plot to show, otherwise there will be no plot\n",
    "plt.show()\n",
    "\n"
   ]
  },
  {
   "cell_type": "code",
   "execution_count": 37,
   "metadata": {},
   "outputs": [
    {
     "data": {
      "image/png": "[encoded data removed]",
      "text/plain": [
       "<matplotlib.figure.Figure at 0x10680bcc0>"
      ]
     },
     "metadata": {},
     "output_type": "display_data"
    },
    {
     "name": "stdout",
     "output_type": "stream",
     "text": [
      "[ 2.  3.  4.  3.  2.  1.]\n",
      "[ 48.          56.16666667  64.33333333  72.5         80.66666667\n",
      "  88.83333333  97.        ]\n"
     ]
    }
   ],
   "source": [
    "x = [88, 48, 60, 51, 57, 85, 69, 75, 97, 72, 71, 79, 65, 63, 73]\n",
    "\n",
    "\n",
    "# catch information of histogram, \n",
    "#plt.hist returns a triple:\n",
    "#1)  (n_d below): the count in each bin\n",
    "#2) (bins_d below): the bins interval\n",
    "#3) (dummy): a python structure that we don't need for now\n",
    "n_d, bins_d, dummy = plt.hist(x,bins = 6,edgecolor='black', linewidth=1.2)\n",
    "\n",
    "plt.show()\n",
    "print(n_d,)\n",
    "print(bins_d)\n"
   ]
  },
  {
   "cell_type": "code",
   "execution_count": 38,
   "metadata": {},
   "outputs": [
    {
     "data": {
      "image/png": "[encoded data removed]",
      "text/plain": [
       "<matplotlib.figure.Figure at 0x10665c550>"
      ]
     },
     "metadata": {},
     "output_type": "display_data"
    },
    {
     "name": "stdout",
     "output_type": "stream",
     "text": [
      "[ 1.  2.  4.  5.  2.  1.]\n",
      "[  40.   50.   60.   70.   80.   90.  100.]\n"
     ]
    }
   ],
   "source": [
    "# nicer histogram with more information\n",
    "# shows the bins we want to by adding: bins = 6,range = (40,100) to hist()\n",
    "\n",
    "x = [88, 48, 60, 51, 57, 85, 69, 75, 97, 72, 71, 79, 65, 63, 73]\n",
    "\n",
    "\n",
    "#plt.hist returns a triple:\n",
    "#1) the first (n_d below): the count in each bin\n",
    "#2) the second (bins_d below): the bins interval\n",
    "#3) the third(dummy): a python structure that we don't need for now\n",
    "\n",
    "\n",
    "plt.figure(figsize = (20,10)) # adjust figure size\n",
    "n_d, bins_d, dummy = plt.hist(x,bins = 6, range = (40,100),\n",
    "                              edgecolor='black', linewidth=1.2)\n",
    "#plt.plot(bins_d,np.zeros(len(bins_d)),'y*')\n",
    "\n",
    "plt.show()\n",
    "\n",
    "print(n_d,)\n",
    "print(bins_d)"
   ]
  },
  {
   "cell_type": "markdown",
   "metadata": {
    "collapsed": true
   },
   "source": [
    "Compare the above histogram with our original count\n",
    "\n",
    "[88, 48, 60, 51, 57, 85, 69, 75, 97, 72, 71, 79, 65, 63, 73]\n",
    "\n",
    "1. [40, 50)  count 1\n",
    "1. [50, 60)  count 2\n",
    "1. [60, 70)  count 4\n",
    "1. [70, 80)  count 1\n",
    "1. [80, 90)  count 2\n",
    "1. [90, 100) count 1\n"
   ]
  },
  {
   "cell_type": "code",
   "execution_count": null,
   "metadata": {
    "collapsed": true
   },
   "outputs": [],
   "source": []
  }
 ],
 "metadata": {
  "kernelspec": {
   "display_name": "Python 3",
   "language": "python",
   "name": "python3"
  },
  "language_info": {
   "codemirror_mode": {
    "name": "ipython",
    "version": 3
   },
   "file_extension": ".py",
   "mimetype": "text/x-python",
   "name": "python",
   "nbconvert_exporter": "python",
   "pygments_lexer": "ipython3",
   "version": "3.6.0"
  }
 },
 "nbformat": 4,
 "nbformat_minor": 2
}
