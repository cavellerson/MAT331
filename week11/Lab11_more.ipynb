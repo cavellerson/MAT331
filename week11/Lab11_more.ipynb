{
 "cells": [
  {
   "cell_type": "markdown",
   "metadata": {},
   "source": [
    "\n",
    "\n",
    "# Read files == np.loadtxt\n",
    "# import pandas as pd, try pd.read_(click Tab)\n",
    "##### Keywords: read files, matrix"
   ]
  },
  {
   "cell_type": "code",
   "execution_count": 2,
   "metadata": {
    "collapsed": true
   },
   "outputs": [],
   "source": [
    "%matplotlib inline\n",
    "import numpy as np\n"
   ]
  },
  {
   "cell_type": "markdown",
   "metadata": {},
   "source": [
    "## Read a .txt file. you can direct access it when it is in the same folder as your current running ipynb file"
   ]
  },
  {
   "cell_type": "markdown",
   "metadata": {},
   "source": [
    "## numpy.loadtxt is a very simple reader. There are ways to make it do some advanced things like handle missing data or read non-numeric columns but they are all a bit tedious so this function is best used with well behaved tables.\n",
    "\n"
   ]
  },
  {
   "cell_type": "markdown",
   "metadata": {},
   "source": [
    "## numpy.loadtxt has a couple of useful keywords. \n",
    "1. skiprows  -- keyword to skip header lines. By default numpy.loadtxt will split columns on white space \n",
    "1. delimiter -- you can specify other separators using the delimiter keyword. depending on the given file\n",
    "1. usecols   -- If you want select only certain columns from the table use the usecols keyword. "
   ]
  },
  {
   "cell_type": "markdown",
   "metadata": {},
   "source": [
    "## First let's try to read file: weather_space.txt  \n",
    "\n",
    "## this file gives the nicest table you can expect, and you can just simply load it:\n"
   ]
  },
  {
   "cell_type": "code",
   "execution_count": 3,
   "metadata": {},
   "outputs": [
    {
     "name": "stdout",
     "output_type": "stream",
     "text": [
      "[[ 0.5   0.25  0.25]\n",
      " [ 0.5   0.    0.5 ]\n",
      " [ 0.25  0.25  0.5 ]]\n",
      "<class 'numpy.ndarray'>\n",
      "(3, 3)\n"
     ]
    }
   ],
   "source": [
    "weather = np.loadtxt('weather_space.txt')\n",
    "print(weather)\n",
    "print(type(weather) )\n",
    "print(weather.shape)"
   ]
  },
  {
   "cell_type": "code",
   "execution_count": 4,
   "metadata": {},
   "outputs": [
    {
     "name": "stdout",
     "output_type": "stream",
     "text": [
      "[[ 0.25  0.25]\n",
      " [ 0.    0.5 ]\n",
      " [ 0.25  0.5 ]]\n",
      "<class 'numpy.ndarray'>\n",
      "(3, 2) \n",
      "\n",
      "[ 0.5   0.5   0.25]\n",
      "<class 'numpy.ndarray'>\n",
      "(3,)\n"
     ]
    }
   ],
   "source": [
    "## weather_space.txt now only read in column 1 and 2 when you add keyword usecols = [1,2],\n",
    "weather1 = np.loadtxt('weather_space.txt', usecols = [1,2])\n",
    "print(weather1)\n",
    "print(type(weather1) )\n",
    "print(weather1.shape,'\\n')\n",
    "\n",
    "## weather_space.txt now only read in column 0, when you add keyword usecols = [0],\n",
    "## But now, the result is just a 1-d array\n",
    "weather1 = np.loadtxt('weather_space.txt', usecols = [0])\n",
    "print(weather1)\n",
    "print(type(weather1) )\n",
    "print(weather1.shape)"
   ]
  },
  {
   "cell_type": "markdown",
   "metadata": {},
   "source": [
    "## Now let's try to load another file weather_comma.txt\n",
    "## np.loadtxt('weather_comma.txt') will NOT work!"
   ]
  },
  {
   "cell_type": "code",
   "execution_count": 5,
   "metadata": {},
   "outputs": [
    {
     "name": "stdout",
     "output_type": "stream",
     "text": [
      "[[ 0.5   0.25  0.25]\n",
      " [ 0.5   0.    0.5 ]\n",
      " [ 0.25  0.25  0.5 ]]\n",
      "<class 'numpy.ndarray'>\n",
      "(3, 3)\n"
     ]
    }
   ],
   "source": [
    "# weather = np.loadtxt('weather_comma.txt')# does not work\n",
    "weather = np.loadtxt('weather_comma.txt',delimiter=',')# does not work\n",
    "print(weather)\n",
    "print(type(weather) )\n",
    "print(weather.shape)"
   ]
  },
  {
   "cell_type": "markdown",
   "metadata": {},
   "source": [
    "## Now let's try to load another file funny_weather.txt\n"
   ]
  },
  {
   "cell_type": "code",
   "execution_count": 6,
   "metadata": {},
   "outputs": [
    {
     "name": "stdout",
     "output_type": "stream",
     "text": [
      "[[ 0.5   0.25  0.25]\n",
      " [ 0.5   0.    0.5 ]\n",
      " [ 0.25  0.25  0.5 ]]\n",
      "<class 'numpy.ndarray'>\n",
      "(3, 3)\n"
     ]
    }
   ],
   "source": [
    "#weather = np.loadtxt('funny_weather.txt',delimiter=',')# does not work because there are strings\n",
    "\n",
    "weather = np.loadtxt('funny_weather.txt',delimiter=',',usecols=[1,2,3])\n",
    "print(weather)\n",
    "print(type(weather) )\n",
    "print(weather.shape)"
   ]
  },
  {
   "cell_type": "markdown",
   "metadata": {},
   "source": [
    "# You can also skip rows"
   ]
  },
  {
   "cell_type": "code",
   "execution_count": 7,
   "metadata": {},
   "outputs": [
    {
     "name": "stdout",
     "output_type": "stream",
     "text": [
      "[ 0.25  0.25  0.5 ]\n",
      "<class 'numpy.ndarray'>\n",
      "(3,)\n"
     ]
    }
   ],
   "source": [
    "weather = np.loadtxt('funny_weather.txt',delimiter=',',usecols=[1,2,3],skiprows=2) # skip the top two rows\n",
    "print(weather)\n",
    "print(type(weather) )\n",
    "print(weather.shape)"
   ]
  },
  {
   "cell_type": "markdown",
   "metadata": {},
   "source": [
    "## Normally, people set a separate folder to store their data files, and you want to make a subfolder, inside your working directory to store data files\n",
    "\n",
    "## In python, people store their data files in a subfolder  of your current working directory. you can run the following code to tell where your current file is\n",
    "## i.e. the file path"
   ]
  },
  {
   "cell_type": "code",
   "execution_count": 8,
   "metadata": {
    "collapsed": true
   },
   "outputs": [],
   "source": [
    "import os\n",
    "\n",
    "## store current working directory\n",
    "cwd      = os.getcwd() \n",
    "\n",
    "\n",
    "## a universal standard is to store all data files in a subfolder \n",
    "## called \"data\" or \"raw_data\" or \"blabla_data\"\n",
    "\n",
    "datapath = cwd + u'/data/'"
   ]
  },
  {
   "cell_type": "markdown",
   "metadata": {},
   "source": [
    "# Now to access data stored in the subfolder data\n",
    "## Now create a folder called \"data\" in your working folder (i.e. where this file is stored\n",
    "## Then move all .txt data files into that folder\n",
    "## You cannot access houston_weather.txt simply by :\n",
    "## np.loadtxt('houston_weather.txt', delimiter=',')\n",
    "## But by np.loadtxt(datapath+'houston_weather.txt', delimiter=',')\n"
   ]
  },
  {
   "cell_type": "code",
   "execution_count": 10,
   "metadata": {
    "collapsed": true
   },
   "outputs": [],
   "source": [
    "## You cannot access houston_weather.txt simply by np.loadtxt('houston_weather.txt', delimiter=',')\n",
    "houston_weather = np.loadtxt(datapath+'houston_weather.txt', delimiter=',')\n",
    "weather = np.loadtxt(datapath + 'weather_space.txt')"
   ]
  },
  {
   "cell_type": "markdown",
   "metadata": {},
   "source": [
    "## np.matrix -- make an N by N 2d array into a matrix type so that you can truely do matrix operations!"
   ]
  },
  {
   "cell_type": "code",
   "execution_count": 11,
   "metadata": {},
   "outputs": [],
   "source": [
    "weather = np.loadtxt(datapath + 'weather_space.txt')"
   ]
  },
  {
   "cell_type": "code",
   "execution_count": 12,
   "metadata": {},
   "outputs": [
    {
     "name": "stdout",
     "output_type": "stream",
     "text": [
      "This is NOT a matrix product, but entrywise squared!!!\n",
      " [[ 0.25    0.0625  0.0625]\n",
      " [ 0.25    0.      0.25  ]\n",
      " [ 0.0625  0.0625  0.25  ]]\n",
      "\n",
      "This is NOT a matrix product, but entrywise product!!!\n",
      " [[ 0.25    0.0625  0.0625]\n",
      " [ 0.25    0.      0.25  ]\n",
      " [ 0.0625  0.0625  0.25  ]]\n",
      "\n",
      "This is NOT a matrix inverse, but entrywise inverse!!!\n",
      " [[  2.   4.   4.]\n",
      " [  2.  inf   2.]\n",
      " [  4.   4.   2.]]\n"
     ]
    },
    {
     "name": "stderr",
     "output_type": "stream",
     "text": [
      "/Library/Frameworks/Python.framework/Versions/3.6/lib/python3.6/site-packages/ipykernel_launcher.py:3: RuntimeWarning: divide by zero encountered in reciprocal\n",
      "  This is separate from the ipykernel package so we can avoid doing imports until\n"
     ]
    }
   ],
   "source": [
    "print(\"This is NOT a matrix product, but entrywise squared!!!\\n\", weather**2)\n",
    "print(\"\\nThis is NOT a matrix product, but entrywise product!!!\\n\", weather*weather)\n",
    "print(\"\\nThis is NOT a matrix inverse, but entrywise inverse!!!\\n\", weather**(-1))"
   ]
  },
  {
   "cell_type": "code",
   "execution_count": 16,
   "metadata": {},
   "outputs": [
    {
     "name": "stdout",
     "output_type": "stream",
     "text": [
      "true matrix product: P times P\n",
      " [[ 0.4375  0.1875  0.375 ]\n",
      " [ 0.375   0.25    0.375 ]\n",
      " [ 0.375   0.1875  0.4375]]\n",
      "\n",
      "weather times weather\n",
      " [[ 0.25    0.0625  0.0625]\n",
      " [ 0.25    0.      0.25  ]\n",
      " [ 0.0625  0.0625  0.25  ]]\n"
     ]
    }
   ],
   "source": [
    "P = np.matrix(weather)\n",
    "print(\"true matrix product: P times P\\n\", P**2)\n",
    "print(\"\\nweather times weather\\n\", weather**2)"
   ]
  },
  {
   "cell_type": "code",
   "execution_count": null,
   "metadata": {
    "collapsed": true
   },
   "outputs": [],
   "source": []
  }
 ],
 "metadata": {
  "anaconda-cloud": {},
  "kernelspec": {
   "display_name": "Python 3",
   "language": "python",
   "name": "python3"
  },
  "language_info": {
   "codemirror_mode": {
    "name": "ipython",
    "version": 3
   },
   "file_extension": ".py",
   "mimetype": "text/x-python",
   "name": "python",
   "nbconvert_exporter": "python",
   "pygments_lexer": "ipython3",
   "version": "3.6.0"
  }
 },
 "nbformat": 4,
 "nbformat_minor": 1
}
