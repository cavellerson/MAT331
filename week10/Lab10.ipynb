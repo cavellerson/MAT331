{
 "cells": [
  {
   "cell_type": "markdown",
   "metadata": {},
   "source": [
    "\n",
    "\n",
    "#  Monte Carlo Errors and other estimation methods\n",
    "\n",
    "##### Keywords: monte-carlo, integration,  central limit theorem"
   ]
  },
  {
   "cell_type": "code",
   "execution_count": 12,
   "metadata": {
    "collapsed": true
   },
   "outputs": [],
   "source": [
    "%matplotlib inline\n",
    "import numpy as np\n",
    "import matplotlib.pyplot as plt\n",
    "import time\n"
   ]
  },
  {
   "cell_type": "markdown",
   "metadata": {},
   "source": [
    "## The basic idea\n",
    "\n",
    "Let us formalize the basic idea behind Monte Carlo Integration in 1-D.\n",
    "\n",
    "Consider the definite integral:\n",
    "\n",
    "$$ I = \\int_{a}^{b} g(x) \\, dx $$\n",
    "\n",
    "Then it can be written as :\n",
    "\n",
    "$$ I =  \\int_{a}^{b}(b-a)  \\frac{g(x)}{(b-a)} = (b-a) \\int_{a}^{b}  \\frac{g(x)}{(b-a)} \\, dx $$\n",
    "\n",
    "Recall that uniform distribution between a and be has the probability density function:\n",
    "\n",
    "$$ f_{ab}(x) = \\frac{1}{b-a},x\\in [a,b]$$\n",
    "\n",
    "\n",
    "So the above integral $I$ can be written as:\n",
    "\n",
    "$$ I = (b-a) E_{U[a,b]}[g(x)]$$\n",
    "\n",
    "Note that the expected value of $f(x)$ where $x~U[a,b]$ is calculated as\n",
    "$$E_{U[a,b]}[g(x)] := \\int_{a}^{b} g(x)  f_{U[a,b]} dx$$\n",
    "\n",
    "And central limit says that:\n",
    "\n",
    " $$E_{U[a,b]}[g(x)]= \\lim_{n \\to \\infty} \\frac{1}{N}\\sum_{x_i \\sim U} g(x_i)$$"
   ]
  },
  {
   "cell_type": "markdown",
   "metadata": {},
   "source": [
    "### Example. \n",
    "\n",
    "**Calculate the integral $ I= \\int_{2}^{3} [x^2 + 4 \\, x \\,\\sin(x)] \\, dx. $**\n",
    "\n",
    "We know from calculus that the anti-derivative is \n",
    "$$ x^3/3 + 4\\sin(x) -4x\\cos(x). $$ \n",
    "\n",
    "To solve this using MC, we simply draw $N$ random numbers from 2 to 3 and then take the average of all the values $f(x)=x^2 + 4 \\, x \\,\\sin(x)$ and normalized over the volume; this case the volume is 1 (3-2=1). "
   ]
  },
  {
   "cell_type": "code",
   "execution_count": 2,
   "metadata": {
    "collapsed": true
   },
   "outputs": [],
   "source": [
    "def f(x):\n",
    "    return x**2 + 4*x*np.sin(x) \n",
    "\n",
    "def intf(x): \n",
    "    return x**3/3.0+4.0*np.sin(x) - 4.0*x*np.cos(x) "
   ]
  },
  {
   "cell_type": "code",
   "execution_count": 3,
   "metadata": {},
   "outputs": [
    {
     "name": "stdout",
     "output_type": "stream",
     "text": [
      "Monte Carlo estimation= 11.8151950975 Exact number= 11.8113589251\n"
     ]
    },
    {
     "name": "stderr",
     "output_type": "stream",
     "text": [
      "/Library/Frameworks/Python.framework/Versions/3.6/lib/python3.6/site-packages/ipykernel_launcher.py:29: RuntimeWarning: invalid value encountered in double_scalars\n"
     ]
    },
    {
     "data": {
      "image/png": "[encoded data removed]",
      "text/plain": [
       "<matplotlib.figure.Figure at 0x10628ce80>"
      ]
     },
     "metadata": {},
     "output_type": "display_data"
    }
   ],
   "source": [
    "a = 2;    \n",
    "b = 3; \n",
    "\n",
    "# use N draws \n",
    "N= 10000\n",
    "\n",
    "X = np.random.uniform(low=a, high=b, size=N) # N values uniformly drawn from a to b \n",
    "Y =f(X)   # CALCULATE THE f(x) \n",
    "V = b-a\n",
    "Imc= V * np.sum(Y)/ N;\n",
    "\n",
    "exactval=intf(b)-intf(a)\n",
    "\n",
    "print(\"Monte Carlo estimation=\",Imc, \"Exact number=\", intf(b)-intf(a))\n",
    "# to store MC estimate for each N\n",
    "Imc=np.zeros(1000)\n",
    "\n",
    "# just to store N\n",
    "Na = np.linspace(0,1000,1000)\n",
    "\n",
    "# calculus result\n",
    "exactval= intf(b)-intf(a)\n",
    "\n",
    "# for each N run monte carlo to estimate integral\n",
    "for N in np.arange(0,1000):\n",
    "    X = np.random.uniform(low=a, high=b, size=N) # N values uniformly drawn from a to b \n",
    "    Y =f(X)   # CALCULATE THE f(x) \n",
    "\n",
    "    Imc[N]= (b-a) * np.sum(Y)/ N;\n",
    "    \n",
    "    \n",
    "plt.plot(np.arange(10,1000),abs(Imc[10:]-exactval), alpha=0.7)#np.sqrt((Imc[10:]-exactval)**2), alpha=0.7)\n",
    "plt.plot(np.arange(10,1000), 1/np.sqrt(Na[10:]), 'r')\n",
    "plt.xlabel(\"N\")\n",
    "plt.ylabel(\"|Imc-ExactValue|\")\n",
    "\n",
    "# \n",
    "plt.show()"
   ]
  },
  {
   "cell_type": "markdown",
   "metadata": {},
   "source": [
    "Obviously this depends on the number of $N$ as $1/\\sqrt{N}$. "
   ]
  },
  {
   "cell_type": "markdown",
   "metadata": {},
   "source": [
    "## Errors in MC\n",
    "\n",
    "Monte Carlo methods yield approximate\n",
    "answers whose accuracy depends on the number of draws.\n",
    "\n",
    "So far, we have used our knowledge of the exact value  to determine that the\n",
    "error in the Monte Carlo method approaches zero as approximately $1/\\sqrt{N}$ for large $N$, where $N$ is the number of trials. \n",
    "\n",
    "But in the usual case, the exact answer is unknown. Why do this otherwise?So, lets repeat the same evaluation $m$ times and check the variance of the estimate. "
   ]
  },
  {
   "cell_type": "markdown",
   "metadata": {},
   "source": [
    "### Example. The same as before, but we fix the number of draws N = 10,000 and   repeat it 1000 times\n",
    "\n",
    "**Calculate the integral $ I= \\int_{2}^{3} [x^2 + 4 \\, x \\,\\sin(x)] \\, dx. $**\n"
   ]
  },
  {
   "cell_type": "code",
   "execution_count": 8,
   "metadata": {},
   "outputs": [
    {
     "name": "stdout",
     "output_type": "stream",
     "text": [
      "mean: 11.8112880207 , std: 0.00421757811173\n"
     ]
    },
    {
     "data": {
      "image/png": "[encoded data removed]",
      "text/plain": [
       "<matplotlib.figure.Figure at 0x106ae0eb8>"
      ]
     },
     "metadata": {},
     "output_type": "display_data"
    }
   ],
   "source": [
    "# multiple MC estimations\n",
    "m=1000\n",
    "N=10000\n",
    "Imc=np.zeros(m)\n",
    "\n",
    "\n",
    "for i in np.arange(m):\n",
    "    \n",
    "    X = np.random.uniform(low=a, high=b, size=N) # N values uniformly drawn from a to b \n",
    "    Y =f(X)   # CALCULATE THE f(x) \n",
    "    Imc[i]= (b-a) * np.sum(Y)/ N;\n",
    "    \n",
    "    \n",
    "plt.hist(Imc, bins=30)\n",
    "plt.xlabel(\"Imc\")\n",
    "print('mean:',np.mean(Imc), ', std:',np.std(Imc))\n"
   ]
  },
  {
   "cell_type": "markdown",
   "metadata": {},
   "source": [
    "This looks like our telltale Normal distribution.\n",
    "\n",
    "This is not surprising\n",
    "\n",
    "### Estimating the error in MC integration using the CLT.\n",
    "\n",
    "We know from the CLT that if $x_1,x_2,...,x_n$ be a sequence of independent, identically-distributed (IID) random variables from a random variable $X$, and that if $X$ has the finite mean $\\mu$ AND finite variance $\\sigma^2$. \n",
    "\n",
    "Then, \n",
    "\n",
    "$$S_n = \\frac{1}{n} \\sum_{i=1}^{n} x_i ,$$\n",
    "\n",
    "**converges to a Gaussian Random Variable with mean $\\mu$ and variance $\\sigma^2/n$ as $n \\to \\infty$:**\n",
    "\n",
    "$$ S_n \\sim N(\\mu,\\frac{\\sigma^2}{n}) \\, as \\, n \\to \\infty. $$\n",
    "\n",
    "\n",
    "This is true *regardless* of the shape of $X$, which could be binomial, poisson, or any other distribution."
   ]
  },
  {
   "cell_type": "markdown",
   "metadata": {},
   "source": [
    "The sums\n",
    "\n",
    "$$S_n(f) = \\frac{1}{n} \\sum_{i=1}^{n} f(x_i) $$\n",
    "\n",
    "are exactly what we want to calculate for Monte-Carlo Integration(due to the MLE) and correspond to the random variable f(X) where X is uniformly distributed on the support.\n",
    "\n",
    "Whatever the original variance of f(X) might be, we can see that the variance of the sampling distribution of the mean goes down as $1/n$ and thus the standard error goes down as $1/\\sqrt{n}$ as we discovered when we compared it to the exact value as well.\n",
    "\n",
    "Why is this important?"
   ]
  },
  {
   "cell_type": "code",
   "execution_count": null,
   "metadata": {
    "collapsed": true
   },
   "outputs": [],
   "source": [
    "## We need to fix the total samples (N = 10000) for each experiment. \n",
    "## Repeat doing the same experiment to get a more accurate answer \n",
    "## as approximation of the integral\n"
   ]
  },
  {
   "cell_type": "markdown",
   "metadata": {},
   "source": [
    "### Comparing to standard integration techniques\n",
    "### Rectangle Rule\n",
    "\n",
    "If we divide the $a, b$-interval into $N$ \n",
    "steps and use some regular integration routine, what is the error? Consider the Rectangle Rule as illustrated in this diagram from Wikipedia:\n",
    "\n",
    "![](https://upload.wikimedia.org/wikipedia/commons/5/5b/Rectangle_rule.gif)\n",
    "The basic idea is that the function value at the left of the interval is used as the height of the approximating rectangle. In general, the differing methods consist of choosing different $x_i$ below. $\\Delta x = \\frac{b-a}{n}$\n",
    "$$I_{est} = \\sum_i f(x_i)\\Delta x = \\frac{b-a}{n} \\sum_i f(x_i)$$\n",
    "\n",
    "$x_i = a+i\\dot\\Delta x,$ where  $i = 0,1,2,...,n-1$. \n",
    "The error on the estimation of the integral can be shown to decrease as $\\frac{1}{n^2}$."
   ]
  },
  {
   "cell_type": "code",
   "execution_count": 9,
   "metadata": {},
   "outputs": [
    {
     "name": "stdout",
     "output_type": "stream",
     "text": [
      "left_integral =  11.811387964 left_integral err=  2.90389439979e-05\n"
     ]
    }
   ],
   "source": [
    "def left_int(func,a,b,n):\n",
    "    delta_x = (b - a)/n\n",
    "    left_x  = np.arange(a,b,delta_x)\n",
    "    estimate= delta_x*np.sum(func(left_x))\n",
    "    return estimate\n",
    "\n",
    "a = 2.\n",
    "b = 3.\n",
    "N = 10000\n",
    "\n",
    "left_integral = left_int(f,a,b,N)\n",
    "left_err = np.abs(left_integral - exactval)\n",
    "\n",
    "print('left_integral = ',left_integral,\n",
    "      'left_integral err= ',left_err)\n",
    "\n"
   ]
  },
  {
   "cell_type": "markdown",
   "metadata": {},
   "source": [
    "\n",
    "## what if I choose a different x_i ?\n",
    "If we divide the $a, b$-interval into $N$ \n",
    "steps and use some regular integration routine, what is the error? Consider choosing $x_i$ as the midpoint of each tiny interval\n",
    "\n",
    "Different from before (useing left point as height, we use the f(midpoint) as height).$\\Delta x = \\frac{b-a}{n}$\n",
    "\n",
    "$$I_{est} = \\sum_i f(x_i)\\Delta x = \\frac{b-a}{n} \\sum_i f(x_i)$$\n",
    "\n",
    "Now $x_i = a+ i\\Delta x + \\frac{\\Delta x}{2}$, where $i=0,1,2,... n-1$"
   ]
  },
  {
   "cell_type": "code",
   "execution_count": 10,
   "metadata": {},
   "outputs": [
    {
     "name": "stdout",
     "output_type": "stream",
     "text": [
      "midpt_integral =  11.8113589291 midpt_err     =  4.00740951534e-09\n"
     ]
    }
   ],
   "source": [
    "def midpt_int(func,a,b,n):\n",
    "    delta_x = (b - a)/n\n",
    "    mid_x   = np.arange(a,b,delta_x) +  delta_x/2\n",
    "    estimate= delta_x*np.sum(func(mid_x))\n",
    "    return estimate\n",
    "\n",
    "a = 2.\n",
    "b = 3.\n",
    "N = 10000\n",
    "\n",
    "midpt_integral = midpt_int(f,a,b,N)\n",
    "midpt_err = np.abs(midpt_integral - exactval)\n",
    "\n",
    "print('midpt_integral = ',midpt_integral,\n",
    "      'midpt_err     = ',midpt_err)\n",
    "\n"
   ]
  },
  {
   "cell_type": "markdown",
   "metadata": {},
   "source": [
    "##  Trapezoid Rule\n",
    "We calculat individual area us a trapezoid\n",
    "\n",
    "![](https://upload.wikimedia.org/wikipedia/commons/4/40/Trapezoidal_rule_illustration.svg)\n",
    "The basic idea is that the little areas is\n",
    "$$\\frac{(f(x_i)+f(x_{i+1}))\\cdot \\Delta x }{2}$$\n",
    "So the area of estimation is: $\\Delta x = \\frac{b-a}{n}$\n",
    "$$I_{est} = \\sum_{i=0}^{n-1} \\frac{(f(x_i)+f(x_{i+1}))\\cdot \\Delta x }{2} = \\frac{\\Delta x }{2}\\sum_i (f(x_i)+f(x_{i+1}))$$\n",
    "\n",
    "$x_i = a+i\\dot\\Delta x,$ where  $i = 0,1,2,...,n-1$. \n",
    "The error on the estimation of the integral can be shown to decrease as $\\frac{1}{n^3}$.\n",
    "\n"
   ]
  },
  {
   "cell_type": "code",
   "execution_count": 11,
   "metadata": {},
   "outputs": [
    {
     "name": "stdout",
     "output_type": "stream",
     "text": [
      "trapz_integral =  11.8113589171 trapz_err     =  8.02189781268e-09\n"
     ]
    }
   ],
   "source": [
    "def trapz_int(func,a,b,n):\n",
    "    delta_x = (b - a)/n\n",
    "    left   = np.arange(a,b,delta_x) \n",
    "    right  = np.arange(a+delta_x,b+delta_x,delta_x) \n",
    "    estimate= delta_x*(np.sum(f(left))+np.sum(f(right))) / 2\n",
    "    return estimate\n",
    "\n",
    "a = 2.\n",
    "b = 3.\n",
    "N = 10000\n",
    "\n",
    "trapz_integral = trapz_int(f,a,b,N)\n",
    "trapz_err = np.abs(trapz_integral - exactval)\n",
    "\n",
    "print('trapz_integral = ',trapz_integral,\n",
    "      'trapz_err     = ',trapz_err)\n",
    "\n"
   ]
  },
  {
   "cell_type": "markdown",
   "metadata": {},
   "source": [
    "## The basic reason for this can be understood on a taylor series expansion of the function to second order. When you integrate on the sub-interval, the linear term vanishes while the quadratic term becomes cubic in $\\Delta x$. So the local error goes as $\\frac{1}{n^3}$ and thus the global as  $\\frac{1}{n^2}$.\n"
   ]
  },
  {
   "cell_type": "markdown",
   "metadata": {},
   "source": [
    "### Example. The same as before, but we fix the number of draws N = 10,000 and   repeat it 1000 times\n",
    "\n",
    "**Calculate the integral $ I= \\int_{2}^{3} [x^2 + 4 \\, x \\,\\sin(x)] \\, dx. $**\n",
    "\n",
    "We know from calculus that the anti-derivative is \n",
    "$$ x^3/3 + 4\\sin(x) -4x\\cos(x). $$ \n"
   ]
  },
  {
   "cell_type": "code",
   "execution_count": 27,
   "metadata": {},
   "outputs": [
    {
     "name": "stdout",
     "output_type": "stream",
     "text": [
      "Monte Carlo estimation= 11.8149037481 Exact number= 11.8113589251\n"
     ]
    }
   ],
   "source": [
    "def f(x):\n",
    "    return x**2 + 4*x*np.sin(x) \n",
    "\n",
    "def intf(x): \n",
    "    return x**3/3.0+4.0*np.sin(x) - 4.0*x*np.cos(x) \n",
    "\n",
    "# copy the past monte carlo method:\n",
    "a = 2.\n",
    "b = 3.\n",
    "exactval=intf(b)-intf(a)\n",
    "\n",
    "\n",
    "N = 10000\n",
    "exactval=intf(b)-intf(a)\n",
    "Y =f(np.random.uniform(low=a, high=b, size=N))   # CALCULATE THE f(x) \n",
    "Imc= (b-a) * np.sum(Y)/ N;\n",
    "mc_err = np.abs(Imc-exactval)\n",
    "\n",
    "print(\"Monte Carlo estimation=\",Imc, \"Exact number=\",exactval)\n",
    "\n"
   ]
  },
  {
   "cell_type": "code",
   "execution_count": 28,
   "metadata": {
    "collapsed": true
   },
   "outputs": [],
   "source": [
    "def left_int(func,a,b,n):\n",
    "    delta_x = (b - a)/n\n",
    "    left_x  = np.arange(a,b,delta_x)\n",
    "    estimate= delta_x*np.sum(func(left_x))\n",
    "    return estimate"
   ]
  },
  {
   "cell_type": "code",
   "execution_count": 30,
   "metadata": {},
   "outputs": [
    {
     "name": "stdout",
     "output_type": "stream",
     "text": [
      "Monte Carlo estimation= 11.8149037481 left_integral =  11.811387964 Exact number= 11.8113589251\n",
      "Monte Carlo err  = 0.00354482298142 left_integral err=  2.90389439979e-05\n"
     ]
    }
   ],
   "source": [
    "\n",
    "left_integral = left_int(f,a,b,N)\n",
    "left_err = np.abs(left_integral - exactval)\n",
    "\n",
    "print(\"Monte Carlo estimation=\",Imc,\n",
    "      'left_integral = ',left_integral,\n",
    "      \"Exact number=\", exactval)\n",
    "\n",
    "print(\"Monte Carlo err  =\" ,mc_err,\n",
    "      'left_integral err= ',left_err)"
   ]
  },
  {
   "cell_type": "markdown",
   "metadata": {},
   "source": [
    "## Error comparison\n",
    "\n"
   ]
  },
  {
   "cell_type": "code",
   "execution_count": 13,
   "metadata": {
    "collapsed": true
   },
   "outputs": [],
   "source": [
    "# to store MC estimate for each sampling, until we reach sampling 10000 times \n",
    "# to store left\n",
    "N     = 10000\n",
    "Imc   = np.zeros(N)\n",
    "Ileft = np.zeros(N)\n",
    "\n",
    "# just to store each time number of samples\n",
    "# an array of 1,2,3... 10000\n",
    "Na = np.linspace(1,N,N)\n",
    "\n",
    "\n",
    "# keep track of computational time\n",
    "Imc_time   = np.zeros(N)\n",
    "Ileft_time = np.zeros(N)\n",
    "\n",
    "# for each N run monte carlo to estimate integral\n",
    "# and run left integral\n",
    "\n",
    "for K in np.arange(1,N+1):\n",
    "    t0        = time.time()\n",
    "    Imc[K-1]  = (b-a) * np.mean(f(np.random.uniform(low=a, high=b, size=K)));\n",
    "    t1        = time.time()\n",
    "    Ileft[K-1]= left_int(f,a,b,K)\n",
    "    t2        = time.time()\n",
    "    Imc_time[K-1]  = t1-t0\n",
    "    Ileft_time[K-1]= t2-t1\n",
    "    \n"
   ]
  },
  {
   "cell_type": "code",
   "execution_count": 13,
   "metadata": {},
   "outputs": [
    {
     "data": {
      "image/png": "[encoded data removed]",
      "text/plain": [
       "<matplotlib.figure.Figure at 0x104b8e550>"
      ]
     },
     "metadata": {},
     "output_type": "display_data"
    }
   ],
   "source": [
    "plt.figure(figsize = (10,8))\n",
    "plt.plot(np.arange(10,N),abs(Imc[10:]-exactval), alpha=0.7, label = 'monte error')\n",
    "plt.plot(np.arange(10,N), 1/np.sqrt(Na[10:])   , 'b', label = '1/sqrt(N)')\n",
    "plt.plot(np.arange(10,N),abs(Ileft[10:]-exactval), alpha=0.5, label = 'Left error')\n",
    "plt.plot(np.arange(10,N), 1/(Na[10:])            , 'orange', label = '1/(N*N)')\n",
    "\n",
    "plt.ylim([0,0.1])\n",
    "plt.xlim([10,N+1])\n",
    "\n",
    "plt.xlabel(\"N\")\n",
    "plt.ylabel(\"|Imc-ExactValue|\")\n",
    "plt.legend()\n",
    "# \n",
    "plt.show()"
   ]
  },
  {
   "cell_type": "code",
   "execution_count": 17,
   "metadata": {},
   "outputs": [
    {
     "data": {
      "image/png": "[encoded data removed]",
      "text/plain": [
       "<matplotlib.figure.Figure at 0x106b716a0>"
      ]
     },
     "metadata": {},
     "output_type": "display_data"
    }
   ],
   "source": [
    "plt.figure(figsize = (10,8))\n",
    "plt.plot(np.arange(0,N),Imc_time,color = 'b', alpha=0.7, label = 'monte carlo time')\n",
    "plt.plot(np.arange(0,N), Ileft_time, color = 'r', label = 'rectangle rule time')\n",
    "\n",
    "plt.legend()\n",
    "# \n",
    "plt.show()"
   ]
  },
  {
   "cell_type": "code",
   "execution_count": null,
   "metadata": {
    "collapsed": true
   },
   "outputs": [],
   "source": []
  }
 ],
 "metadata": {
  "anaconda-cloud": {},
  "kernelspec": {
   "display_name": "Python 3",
   "language": "python",
   "name": "python3"
  },
  "language_info": {
   "codemirror_mode": {
    "name": "ipython",
    "version": 3
   },
   "file_extension": ".py",
   "mimetype": "text/x-python",
   "name": "python",
   "nbconvert_exporter": "python",
   "pygments_lexer": "ipython3",
   "version": "3.6.0"
  }
 },
 "nbformat": 4,
 "nbformat_minor": 1
}
