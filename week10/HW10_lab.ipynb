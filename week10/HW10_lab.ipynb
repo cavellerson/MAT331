{
 "cells": [
  {
   "cell_type": "markdown",
   "metadata": {},
   "source": [
    "# Due Apr 6 at 5pm\n",
    "# Please submit your homework with file name: HW10_Lastname_firstname.ipynb\n",
    "\n",
    "# Basic Monte Carlo \n",
    "\n",
    "\n",
    "#  Monte Carlo and other estimation methods\n",
    "\n",
    "##### Keywords: monte-carlo, integration,  central limit theorem"
   ]
  },
  {
   "cell_type": "markdown",
   "metadata": {},
   "source": [
    "### Approximate the following integral using different methods. Compare their computing time and errors\n",
    "\n",
    "**Calculate the integral $ I= \\int_{0}^{2} [x^3 + 4 \\, x \\,\\sin(x)] \\, dx. $**\n",
    "\n",
    "\n",
    "1. Use Monte Carlo simulation to obtain \n",
    "    1. Imc == an array of approximation of I (For $K \\in [1,2,3,4... 10000]$)  with K samples \n",
    "    1. mc_err == an array of errors the approximations, \n",
    "    1. mc_time== an array of computing time of each approximation\n",
    "\n",
    "1. Use Rectangle with Midpoint Method to obtain \n",
    "    1. Imidpt == an array of approximation of I (For $K \\in [1,2,3,4... 10000]$)  with K iterations. \n",
    "    1. midpt_err == an array of errors the approximations, \n",
    "    1. midpt_time == an array of computing time of each approximation\n",
    "\n",
    "1. Use trapezoid Rule with K iterations to obtain \n",
    "    1. Itrapz == an array of approximation of I (For $K \\in [1,2,3,4... 10000]$), with K iterations. \n",
    "    1. trapz_err == an array of errors of the approximations,\n",
    "    1. trapz_time == an array of computing time of each approximation\n",
    "\n",
    "### Now plot the following 3 graphs\n",
    "\n",
    "1.  a graph whose x axis is number of simulations (iterations) $[1,2,3,4... 10000]$; whose $y$ axis consists of mc_err (red), midpt_err(green), and trapz_err(blue). Note you should use different colors for different $y$ and label them correspondingly. Then add three curves: $1/\\sqrt{simulations}$ (red) , and $1/(simulations^2)$(green), and $1/(simulations^3)$ (blue)\n",
    "\n",
    "1.  a graph whose x axis is number of simulations (iterations) $[1,2,3,4... 10000]$; whose $y$ axis consists of mc_time (red), midpt_time(green), and trapz_time(blue). Note you should use different colors for different $y$ and label them correspondingly. \n"
   ]
  },
  {
   "cell_type": "code",
   "execution_count": 1,
   "metadata": {
    "collapsed": true
   },
   "outputs": [],
   "source": [
    "import numpy as np\n",
    "import matplotlib.pyplot as plt\n",
    "import time\n"
   ]
  },
  {
   "cell_type": "code",
   "execution_count": null,
   "metadata": {
    "collapsed": true
   },
   "outputs": [],
   "source": []
  },
  {
   "cell_type": "code",
   "execution_count": null,
   "metadata": {
    "collapsed": true
   },
   "outputs": [],
   "source": []
  }
 ],
 "metadata": {
  "anaconda-cloud": {},
  "kernelspec": {
   "display_name": "Python 3",
   "language": "python",
   "name": "python3"
  },
  "language_info": {
   "codemirror_mode": {
    "name": "ipython",
    "version": 3
   },
   "file_extension": ".py",
   "mimetype": "text/x-python",
   "name": "python",
   "nbconvert_exporter": "python",
   "pygments_lexer": "ipython3",
   "version": "3.6.0"
  }
 },
 "nbformat": 4,
 "nbformat_minor": 1
}
