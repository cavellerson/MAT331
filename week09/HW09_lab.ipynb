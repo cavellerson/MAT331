{
 "cells": [
  {
   "cell_type": "markdown",
   "metadata": {
    "slideshow": {
     "slide_type": "slide"
    }
   },
   "source": [
    "# Due March 30 at 5pm\n",
    "# Please submit your homework with file name: HW09_Lastname_firstname.ipynb\n",
    "# Basic Monte Carlo \n",
    "\n",
    "##### Keywords: sampling, Monte Carlo, $\\pi$"
   ]
  },
  {
   "cell_type": "markdown",
   "metadata": {},
   "source": [
    " 1. Use Monte Carlo Method to  **Calculate the integral $ I= \\int_{4}^{7} [x \\,\\sin(x)\\,)] \\, dx. $**, use N draws where  $N\\in np.arange(0,10000)$\n",
    " 1. Use Calculus to find the actual value of the integral\n",
    " 1. Find the errors for each $N$\n",
    " 1. Plot accuracy against number of samples, and number of samples against $\\frac{1}{\\textit{number of samples}}$\n",
    "\n"
   ]
  },
  {
   "cell_type": "code",
   "execution_count": 6,
   "metadata": {
    "collapsed": true
   },
   "outputs": [],
   "source": [
    "import numpy as np\n",
    "from scipy import stats\n",
    "import matplotlib.pyplot as plt\n"
   ]
  },
  {
   "cell_type": "code",
   "execution_count": null,
   "metadata": {
    "collapsed": true
   },
   "outputs": [],
   "source": []
  }
 ],
 "metadata": {
  "anaconda-cloud": {},
  "celltoolbar": "Edit Metadata",
  "kernelspec": {
   "display_name": "Python 3",
   "language": "python",
   "name": "python3"
  },
  "language_info": {
   "codemirror_mode": {
    "name": "ipython",
    "version": 3
   },
   "file_extension": ".py",
   "mimetype": "text/x-python",
   "name": "python",
   "nbconvert_exporter": "python",
   "pygments_lexer": "ipython3",
   "version": "3.6.0"
  }
 },
 "nbformat": 4,
 "nbformat_minor": 1
}
