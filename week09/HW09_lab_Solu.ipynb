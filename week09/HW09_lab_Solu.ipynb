{
 "cells": [
  {
   "cell_type": "markdown",
   "metadata": {
    "slideshow": {
     "slide_type": "slide"
    }
   },
   "source": [
    "# Due March 30 at 5pm\n",
    "# Please submit your homework with file name: HW09_Lastname_firstname.ipynb\n",
    "# Basic Monte Carlo \n",
    "\n",
    "##### Keywords: sampling, Monte Carlo, $\\pi$"
   ]
  },
  {
   "cell_type": "markdown",
   "metadata": {},
   "source": [
    " 1. Use Monte Carlo Method to  **Calculate the integral $ I= \\int_{4}^{7} [x \\,\\sin(x)\\,)] \\, dx. $**, use N draws where  $N\\in np.arange(0,10000)$\n",
    " 1. Use Calculus to find the actual value of the integral\n",
    " 1. Find the errors for each $N$\n",
    " 1. Plot accuracy against number of samples, and number of samples against $\\frac{1}{\\textit{number of samples}}$\n",
    "\n"
   ]
  },
  {
   "cell_type": "code",
   "execution_count": 1,
   "metadata": {
    "collapsed": true
   },
   "outputs": [],
   "source": [
    "import numpy as np\n",
    "from scipy import stats\n",
    "import matplotlib.pyplot as plt\n"
   ]
  },
  {
   "cell_type": "code",
   "execution_count": 2,
   "metadata": {
    "collapsed": true
   },
   "outputs": [],
   "source": [
    "def f(x):\n",
    "    return x*np.sin(x)\n",
    "def intf(x):\n",
    "    return -x*np.cos(x) + np.sin(x)"
   ]
  },
  {
   "cell_type": "code",
   "execution_count": 3,
   "metadata": {
    "collapsed": true
   },
   "outputs": [],
   "source": [
    "a = 4\n",
    "b = 7\n",
    "V = b-a\n",
    "\n",
    "total = 10000\n",
    "# to store MC estimate for each N\n",
    "Imc=np.zeros(total)\n",
    "\n",
    "# just to store N\n",
    "Na = np.linspace(0,total,total)\n",
    "\n",
    "# calculus result\n",
    "exactval= intf(b)-intf(a)\n",
    "\n",
    "# for each N run monte carlo to estimate integral\n",
    "for N in np.arange(1,total+1):\n",
    "    X = np.random.uniform(low=a, high=b, size=N) # N values uniformly drawn from a to b \n",
    "    Y =f(X)   # CALCULATE THE f(x) \n",
    "\n",
    "    Imc[N-1]= (b-a) * np.sum(Y)/ N;\n",
    "    \n",
    "    "
   ]
  },
  {
   "cell_type": "code",
   "execution_count": 7,
   "metadata": {},
   "outputs": [
    {
     "data": {
      "text/plain": [
       "array([-6.49503613, -6.35353671, -6.38345468, -6.3384796 , -6.53576201,\n",
       "       -6.50778632, -6.38764849, -6.48640501, -6.33752959, -6.49174857])"
      ]
     },
     "execution_count": 7,
     "metadata": {},
     "output_type": "execute_result"
    }
   ],
   "source": [
    "error = abs(Imc-exactval)\n",
    "error[-10:]\n",
    "Imc[-10:]"
   ]
  },
  {
   "cell_type": "code",
   "execution_count": 13,
   "metadata": {},
   "outputs": [
    {
     "data": {
      "image/png": "[encoded data removed]",
      "text/plain": [
       "<matplotlib.figure.Figure at 0x108e08b70>"
      ]
     },
     "metadata": {},
     "output_type": "display_data"
    }
   ],
   "source": [
    "plt.plot(np.arange(10,total),abs(Imc[10:]-exactval), alpha=0.7)#np.sqrt((Imc[10:]-exactval)**2), alpha=0.7)\n",
    "plt.plot(np.arange(10,total), 1/np.sqrt(Na[10:]), 'r')\n",
    "plt.xlabel(\"N\")\n",
    "plt.ylabel(\"|Imc-ExactValue|\")\n",
    "\n",
    "plt.ylim([0,1.5])\n",
    "plt.show()"
   ]
  },
  {
   "cell_type": "code",
   "execution_count": null,
   "metadata": {
    "collapsed": true
   },
   "outputs": [],
   "source": []
  }
 ],
 "metadata": {
  "anaconda-cloud": {},
  "celltoolbar": "Edit Metadata",
  "kernelspec": {
   "display_name": "Python 3",
   "language": "python",
   "name": "python3"
  },
  "language_info": {
   "codemirror_mode": {
    "name": "ipython",
    "version": 3
   },
   "file_extension": ".py",
   "mimetype": "text/x-python",
   "name": "python",
   "nbconvert_exporter": "python",
   "pygments_lexer": "ipython3",
   "version": "3.6.0"
  }
 },
 "nbformat": 4,
 "nbformat_minor": 1
}
