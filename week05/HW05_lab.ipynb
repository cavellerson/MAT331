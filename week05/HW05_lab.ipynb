{
 "cells": [
  {
   "cell_type": "markdown",
   "metadata": {},
   "source": [
    "# Due March 09 at 5pm\n",
    "\n",
    "# Law of Large Numbers and Central Limit Theorem\n",
    "\n",
    "##### Keywords: sampling, Law of Large Numbers, Central Limit Theorem\n",
    "\n"
   ]
  },
  {
   "cell_type": "markdown",
   "metadata": {},
   "source": [
    "### From Lab04, we know that the inverse CDF of an exponential distribution with parameter $\\lambda$ is \n",
    "\n",
    "$$ x = -\\frac{1}{\\lambda}ln\\left(1-u\\right)$$\n",
    "\n",
    "### Which can be written in python as the following function"
   ]
  },
  {
   "cell_type": "code",
   "execution_count": 2,
   "metadata": {
    "collapsed": true
   },
   "outputs": [],
   "source": [
    "######################################################################\n",
    "## inverse CDF for exponential distribution\n",
    "## with parameter lambda -- calculation by hand\n",
    "######################################################################\n",
    "\n",
    "def invCDF(arr,lam):\n",
    "    if( type(arr) != type(np.array([])) ):\n",
    "        try:\n",
    "            arr = np.array(arr,dtype=float)\n",
    "        except:\n",
    "            print('wrong input for x')\n",
    "            return np.array([])\n",
    "    if( np.sum(arr<0) + np.sum(arr>=1) > 0 ):\n",
    "        print('wrong input, should be in [0,1)')\n",
    "        return np.array([])\n",
    "\n",
    "    return -np.log(1-arr)/lam"
   ]
  },
  {
   "cell_type": "markdown",
   "metadata": {
    "collapsed": true
   },
   "source": [
    "### We want to mimic the 'mean of means method'  from class to sample from a population of random variables following the exponential distribution with parameter $\\lambda$\n",
    "\n",
    "1. We will do a large set M=1000 of experiments \n",
    "1. In each experiment, we will obtain 200 samples.\n",
    "1. For the $N^{th}$ experiment, each sample is of size $N$. To obtain one sample, this means that you generate N random numbers $X_i$~$exp(\\lambda)$, $i = 1,2,\\dots,N$. One sample will be stored as $$\\frac{\\sum_{i=1}^{N}X_i}{N}~.$$ Then you repeat \"generating one sample\" 200 times, to obtain 200 samples.\n",
    "\n",
    "1. For example: \n",
    "    1. the first experiment, you will generate 200 samples; each sample is of size 1, which is 1 random number $X_1$~$exp(\\lambda)$; Then you store each sample as $$\\frac{X_1}{1}$$ In total, you have 200 of them\n",
    "    1. the 1000 th experiment, you will generate 200 samples; each sample is of size 1000, which are 1000 random numbers $X_i$~$exp(\\lambda)$, $i = 1,2,\\dots,1000$. One sample will be stored as $$\\frac{\\sum_{i=1}^{1000}X_i}{1000}$$\n",
    "    In total, you have 200 of them"
   ]
  },
  {
   "cell_type": "markdown",
   "metadata": {},
   "source": [
    "### For $\\lambda = 0.5$, you code should do the following\n",
    "1. Fix the number of experiments M as 1000. \n",
    "1. For N th experiment, generate 200 samples (from exponential distribution with parameter $\\lambda$) of size N. Note, for each sample you should store the mean.\n",
    "1. Note: for each experiment, you get an array of length 200. In total, you get a 1000 by 200 2-d array (I call it experiment_arr),  experiment_arr[k] is a row that stores the experiment with N = k+1 sample size.\n",
    "1. Calculate the mean of each row of experiment_arr (This is the mean of means method). In total, you get a new array of length 1000\n",
    "1. Now plot the histogram of the new array\n",
    "1. set the figure size as (10,5). Take the array corresponding to the 10th experiment (experiment_arr[99]). Plot its density histogram, and plot the corresponding normal density function $N(\\mu,\\sigma^2)$ on the same figure. Note that you need to figure out what $\\mu$ and $\\sigma^2$ to use.\n",
    "1. set the figure size as (10,5). Then take the array corresponding to the 100th experiment (experiment_arr[99]). Plot its density histogram, and plot the corresponding normal density function $N(\\mu,\\sigma^2)$ on the same figure. Note that you need to figure out what $\\mu$ and $\\sigma^2$ to use.\n",
    "1. set the figure size as (10,5). Then take the array corresponding to the 1000th experiment (experiment_arr[999]). Plot its density histogram, and plot the corresponding normal density function $N(\\mu,\\sigma^2)$ on the same figure. Note that you need to figure out what $\\mu$ and $\\sigma^2$ to use."
   ]
  },
  {
   "cell_type": "code",
   "execution_count": 22,
   "metadata": {
    "collapsed": true
   },
   "outputs": [],
   "source": [
    "import numpy as np\n",
    "import matplotlib.pyplot as plt\n",
    "import scipy as sp\n",
    "import scipy.stats\n",
    "\n",
    "def invCDF(arr,lam):\n",
    "    if( type(arr) != type(np.array([])) ):\n",
    "        try:\n",
    "            arr = np.array(arr,dtype=float)\n",
    "        except:\n",
    "            print('wrong input for x')\n",
    "            return np.array([])\n",
    "    if( np.sum(arr<0) + np.sum(arr>=1) > 0 ):\n",
    "        print('wrong input, should be in [0,1)')\n",
    "        return np.array([])\n",
    "\n",
    "    return -np.log(1-arr)/lam"
   ]
  },
  {
   "cell_type": "code",
   "execution_count": null,
   "metadata": {
    "collapsed": true
   },
   "outputs": [],
   "source": [
    "# This is an example: to generate 10 random numbers follows exp(1)\n",
    "# X = generate 10 random numbers exp(1)\n",
    "\n",
    "u = np.random.rand(10)\n",
    "X = invCDF(u,1)\n",
    "print(X)"
   ]
  },
  {
   "cell_type": "code",
   "execution_count": null,
   "metadata": {
    "collapsed": true
   },
   "outputs": [],
   "source": []
  }
 ],
 "metadata": {
  "anaconda-cloud": {},
  "celltoolbar": "Edit Metadata",
  "kernelspec": {
   "display_name": "Python 3",
   "language": "python",
   "name": "python3"
  },
  "language_info": {
   "codemirror_mode": {
    "name": "ipython",
    "version": 3
   },
   "file_extension": ".py",
   "mimetype": "text/x-python",
   "name": "python",
   "nbconvert_exporter": "python",
   "pygments_lexer": "ipython3",
   "version": "3.6.0"
  }
 },
 "nbformat": 4,
 "nbformat_minor": 1
}
