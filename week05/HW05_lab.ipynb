{
 "cells": [
  {
   "cell_type": "markdown",
   "metadata": {},
   "source": [
    "# Law of Large Numbers and Central Limit Theorem\n",
    "\n",
    "##### Keywords: sampling, Law of Large Numbers, Central Limit Theorem"
   ]
  },
  {
   "cell_type": "markdown",
   "metadata": {},
   "source": [
    "# correction from lab02!!!! \n",
    "## The CDF of exponential distribution with parameter $\\lambda$ \n",
    "## you should use the following as CDF of exponential distribution with Parameter $\\lambda$. The function is given as below\n",
    "\n",
    "$\\begin{equation}\n",
    "    F(x;\\lambda)=\n",
    "    \\begin{cases}\n",
    "       1 -  e^{-\\lambda x}, & \\text{if}\\ x\\geq 0 \\\\\n",
    "      0, & \\text{otherwise}\n",
    "    \\end{cases}\n",
    "  \\end{equation}$"
   ]
  },
  {
   "cell_type": "code",
   "execution_count": 3,
   "metadata": {
    "collapsed": true
   },
   "outputs": [],
   "source": [
    "######################################################################\n",
    "## CDF for exponential distribution\n",
    "## with parameter lambda -- from HW02_lab.ipynb\n",
    "######################################################################\n",
    "def exp_cdf(arr,lam):\n",
    "    if( type(arr) != type(np.array([])) ):\n",
    "        try:\n",
    "            arr = np.array(arr,dtype=float)\n",
    "        except:\n",
    "            print('wrong input for x')\n",
    "            return np.array([-1])\n",
    "\n",
    "    return (1 - np.exp( -lam*arr ) )*(arr>0)"
   ]
  },
  {
   "cell_type": "markdown",
   "metadata": {},
   "source": [
    "\n",
    "## The pdf of exponential distribution with parameter $\\lambda$ \n",
    "\n",
    "$\\begin{equation}\n",
    "    f(x;\\lambda)=\n",
    "    \\begin{cases}\n",
    "       \\lambda e^{-\\lambda x}, & \\text{if}\\ x\\geq 0 \\\\\n",
    "      0, & \\text{otherwise}\n",
    "    \\end{cases}\n",
    "  \\end{equation}$"
   ]
  },
  {
   "cell_type": "code",
   "execution_count": null,
   "metadata": {
    "collapsed": true
   },
   "outputs": [],
   "source": [
    "######################################################################\n",
    "## probability density function for exponential distribution\n",
    "## with parameter lambda -- from Lab04.ipynb\n",
    "######################################################################\n",
    "def exp_pdf(arr,lam):\n",
    "\n",
    "    if( type(arr) != type(np.array([])) ):\n",
    "        try:\n",
    "            arr = np.array(arr,dtype=float)\n",
    "        except:\n",
    "            print('wrong input for arr')\n",
    "            return np.array([-1])\n",
    "        \n",
    "    return lam*np.exp(-lam*arr)*(arr>0)"
   ]
  },
  {
   "cell_type": "markdown",
   "metadata": {},
   "source": [
    "## Inverse function of CDF of exponential distribution with parameter $\\lambda$ for $x\\geq0$\n",
    "\n",
    "$$ u = F(x) = 1-  e^{-\\lambda x} $$ \n",
    "\n",
    "## Write x as a function of u:\n",
    "$$ x = -\\frac{1}{\\lambda}ln\\left(1-u\\right)$$\n",
    "\n",
    "## The function above is the inverse function of CDF of exponential distribution\n"
   ]
  },
  {
   "cell_type": "markdown",
   "metadata": {},
   "source": [
    "## Here you can use lab04_inversetransform.ipynb as reference to built  inverse samplings for exponential distribution with parameter $\\lambda$. Lab04.ipynb gives plot references\n",
    "\n",
    "\n",
    "1. Define the pdf of exponential distributions with parameter $\\lambda$ (done in Lab04) exp_pdf(arr,lam) -- given as the above\n",
    "\n",
    "1. Define cdf of exponential distributions with parameter $\\lambda$(Done in HW02) exp_cdf(arr,lam) -- the correct the version is given as the above\n",
    "\n",
    "1. Define the inverse function of cdf with parameter $\\lambda$ -- invCDF(arr,lam) -- you need to  write code to define this function and the form of this function is given as the above\n",
    "\n",
    "1. Let N = 10000, draw N random numbers from uniform distribution U[0,1] and save these numbers into an array: R\n",
    "\n",
    "1. Use invCDF:  for each lam = 0.5, 1, 1.5, calculate X = invCDF(R,lam) separatly and save them as X1, X2, X3\n",
    "\n",
    "1. plot $\\textit{density}$ histogram of X1 and exp_cdf with lam = 0.5 on the same figure;\n",
    "1. plot $\\textit{density}$ histogram of X2 and exp_cdf with lam = 1 on the same figure;\n",
    "1. plot $\\textit{density}$ histogram of X3 and exp_cdf with lam = 1.5 on the same figure;\n",
    "\n",
    "1. For X1 only (ref: Lab04_inversetransform.ipynb)\n",
    "    1. Consider aa = np.linspace(1e-5, 5, 200)\n",
    "    1. For each A in aa, calculate {the number of samples < A}/ total number of samples; Then\n",
    "     store the result in an array: CDFarr\n",
    "    1. Draw a dotted plot '.', where x-axis corresponds to aa and y-axis corresponds to CDFarr\n",
    "    1. Draw a curve with  '-', where x-axis corresponds to aa and y-axis corresponds to exp_CDF(aa,0.5)\n",
    "    \n",
    "\n",
    "# Your result should show the three figures sepcified in 6, 7, 8 as the above; And show the figure specified in 9.C and another figure specified in 9.D\n"
   ]
  },
  {
   "cell_type": "code",
   "execution_count": null,
   "metadata": {
    "collapsed": true
   },
   "outputs": [],
   "source": []
  }
 ],
 "metadata": {
  "anaconda-cloud": {},
  "celltoolbar": "Edit Metadata",
  "kernelspec": {
   "display_name": "Python 3",
   "language": "python",
   "name": "python3"
  },
  "language_info": {
   "codemirror_mode": {
    "name": "ipython",
    "version": 3
   },
   "file_extension": ".py",
   "mimetype": "text/x-python",
   "name": "python",
   "nbconvert_exporter": "python",
   "pygments_lexer": "ipython3",
   "version": "3.6.0"
  }
 },
 "nbformat": 4,
 "nbformat_minor": 1
}
